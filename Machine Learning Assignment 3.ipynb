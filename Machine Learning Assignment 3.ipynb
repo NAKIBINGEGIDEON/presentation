{
 "cells": [
  {
   "cell_type": "markdown",
   "source": [
    "Assignment Title (Lab 3) : Predictive Modeling for Insurance Claims\n",
    "NAME: NAKIIBINGE Gideon\n",
    "\n",
    "REG. NO.: 2023/HD05/04696U\n",
    "\n",
    "STUDENT NO.: 2300704696\n",
    "\n",
    "MASTER OF SCIENCE IN COMPUTER SCIENCE - (MCSC)\n",
    "\n"
   ],
   "metadata": {
    "collapsed": false
   },
   "id": "ee8b6fa88130770e"
  },
  {
   "cell_type": "markdown",
   "source": [
    "Objective:\n",
    "Build a predictive model to determine if a building will have an insurance claim during a specific period using building characteristics. In this assignment, you will explore and apply four machine learning algorithms: Support Vector Machine (SVM), Linear Regression, k-nearest Neighbors (KNN), and Naive Bayes. The evaluation metric for this assignment is the Area Under the Curve (AUC).\n"
   ],
   "metadata": {
    "collapsed": false
   },
   "id": "97064d429767408b"
  },
  {
   "cell_type": "markdown",
   "source": [
    "Variable\tDescription\t\n",
    "Customer Id\t                          Identification number for the Policy holder\t\n",
    "YearOfObservation\t                  year of observation for the insured policy\t\n",
    "Insured_Period\t                      duration of insurance policy in Olusola Insurance. (Ex: Full year insurance, Policy Duration = 1; 6 months = 0.5\t\n",
    "Residential\t                          is the building a residential building or not\t\n",
    "Building_Painted\t                  is the building painted or not (N-Painted, V-Not Painted)\t\n",
    "Building_Fenced\t                      is the building fence or not (N-Fenced, V-Not Fenced)\t\n",
    "Garden\tbuilding                      has garden or not (V-has garden\t O-no garden)\n",
    "Settlement\t                          Area where the building is located. (R- rural area\t U- urban area)\n",
    "Building Dimension\t                  Size of the insured building in m2\t\n",
    "Building_Type\t                      The type of building (Type 1, 2, 3, 4)\t\n",
    "Date_of_Occupancy\t                  date building was first occupied\t\n",
    "NumberOfWindows\t                      number of windows in the building\t\n",
    "Geo Code\t                          Geographical Code of the Insured building\t\n",
    "Claim\t                              target variable. (0: no claim, 1: at least one claim over insured period).\t\n"
   ],
   "metadata": {
    "collapsed": false
   },
   "id": "e4ff209a1b03644f"
  },
  {
   "cell_type": "code",
   "execution_count": 1,
   "outputs": [],
   "source": [
    "# Importing important packages\n",
    "import matplotlib.pyplot as plt\n",
    "import pandas as pd\n",
    "import warnings\n",
    "warnings.filterwarnings(\"ignore\")\n",
    "from sklearn.metrics import classification_report\n",
    "import seaborn as sns\n",
    "from sklearn.preprocessing import StandardScaler\n",
    "from sklearn.pipeline import Pipeline\n",
    "from IPython.display import VimeoVideo\n",
    "from sklearn.linear_model import LinearRegression\n",
    "from sklearn.metrics import mean_absolute_error\n",
    "from sklearn.utils.validation import check_is_fitted\n",
    "from sklearn.preprocessing import LabelEncoder\n",
    "from sklearn.feature_selection import SelectKBest, chi2, f_classif, mutual_info_classif\n",
    "from sklearn.ensemble import RandomForestClassifier\n",
    "from sklearn.svm import SVC\n",
    "from sklearn.neighbors import KNeighborsClassifier\n",
    "from sklearn.naive_bayes import GaussianNB\n",
    "from sklearn.model_selection import train_test_split\n",
    "from sklearn.model_selection import GridSearchCV\n",
    "from sklearn.metrics import accuracy_score\n"
   ],
   "metadata": {
    "collapsed": false,
    "ExecuteTime": {
     "end_time": "2023-11-16T15:55:07.158167407Z",
     "start_time": "2023-11-16T15:55:06.767763846Z"
    }
   },
   "id": "b9fdf8d51caf0a85"
  },
  {
   "cell_type": "markdown",
   "source": [
    "# Prepare Data"
   ],
   "metadata": {
    "collapsed": false
   },
   "id": "17563033cb8328fd"
  },
  {
   "cell_type": "code",
   "execution_count": 2,
   "outputs": [],
   "source": [
    "# Using a function during data wrangling so that the process of data cleaning is not so repetitive \n",
    "def wrangle(filepath):\n",
    "    # Read csv file into data frame\n",
    "    df = pd.read_csv(filepath)\n",
    "    \n",
    "    # Remove missing values from the data set\n",
    "    # The code for dealing with categorical variables \n",
    "    #fill missing values with mode value\n",
    "    df['Garden'].fillna(df['Garden'].mode()[0],inplace=True)\n",
    "    df['Geo_Code'].fillna(df['Geo_Code'].mode()[0],inplace=True)\n",
    "    #fill missing values with median\n",
    "    df['Building Dimension'].fillna(df['Building Dimension'].median(),inplace=True)\n",
    "    df['Date_of_Occupancy'].fillna(df['Date_of_Occupancy'].median(),inplace=True)\n",
    "    \n",
    "    #replace  . in the NumberOfWindows with None since it means they are missing value\n",
    "    df['NumberOfWindows'].replace(('   .'), 'None', inplace=True)\n",
    "    \n",
    "    #Remove outliers by \"Building Dimension\"\n",
    "    lower, higher = df[\"Building Dimension\"].quantile([0.1, 0.9])\n",
    "    mask_dim = df[\"Building Dimension\"].between(lower, higher)\n",
    "    df=df[mask_dim]\n",
    "\n",
    "# Remove outliers by \"Date_of_Occupancy\"\n",
    "    low, high = df[\"Date_of_Occupancy\"].quantile([0.1, 0.9])\n",
    "    mask_date = df[\"Date_of_Occupancy\"].between(low, high)\n",
    "    df = df[mask_date]\n",
    "\n",
    "# Dropping unwanted columns like customer Id \n",
    "    df = df.drop(\"Customer Id\", axis=1)\n",
    "    df = df.drop(\"NumberOfWindows\", axis=1)\n",
    "    df = df.drop(\"Geo_Code\", axis=1)\n",
    "    \n",
    "    \n",
    "    return df"
   ],
   "metadata": {
    "collapsed": false,
    "ExecuteTime": {
     "end_time": "2023-11-16T15:55:10.285380580Z",
     "start_time": "2023-11-16T15:55:10.114855345Z"
    }
   },
   "id": "26ca3bbeca5ba146"
  },
  {
   "cell_type": "code",
   "execution_count": 3,
   "outputs": [
    {
     "name": "stdout",
     "output_type": "stream",
     "text": [
      "df shape (4686, 11)\n"
     ]
    },
    {
     "data": {
      "text/plain": "    YearOfObservation  Insured_Period  Residential Building_Painted  \\\n2                2014        1.000000            0                N   \n3                2013        1.000000            0                V   \n5                2012        1.000000            0                V   \n6                2012        1.000000            0                N   \n10               2013        0.241096            0                V   \n11               2013        1.000000            0                V   \n14               2012        1.000000            0                N   \n16               2014        1.000000            0                N   \n17               2015        1.000000            0                N   \n18               2015        1.000000            0                V   \n\n   Building_Fenced Garden Settlement  Building Dimension  Building_Type  \\\n2                V      V          U               595.0              1   \n3                V      V          U              2840.0              1   \n5                N      O          R               535.0              1   \n6                V      V          U              2830.0              1   \n10               N      O          R               550.0              1   \n11               V      V          U               910.0              1   \n14               V      V          U               560.0              1   \n16               V      V          U              3990.0              1   \n17               V      V          U              3990.0              1   \n18               N      O          R              2444.0              1   \n\n    Date_of_Occupancy  Claim  \n2              1960.0      0  \n3              1960.0      0  \n5              1980.0      0  \n6              1988.0      0  \n10             1960.0      0  \n11             1960.0      0  \n14             1960.0      0  \n16             1988.0      1  \n17             1988.0      0  \n18             1970.0      0  ",
      "text/html": "<div>\n<style scoped>\n    .dataframe tbody tr th:only-of-type {\n        vertical-align: middle;\n    }\n\n    .dataframe tbody tr th {\n        vertical-align: top;\n    }\n\n    .dataframe thead th {\n        text-align: right;\n    }\n</style>\n<table border=\"1\" class=\"dataframe\">\n  <thead>\n    <tr style=\"text-align: right;\">\n      <th></th>\n      <th>YearOfObservation</th>\n      <th>Insured_Period</th>\n      <th>Residential</th>\n      <th>Building_Painted</th>\n      <th>Building_Fenced</th>\n      <th>Garden</th>\n      <th>Settlement</th>\n      <th>Building Dimension</th>\n      <th>Building_Type</th>\n      <th>Date_of_Occupancy</th>\n      <th>Claim</th>\n    </tr>\n  </thead>\n  <tbody>\n    <tr>\n      <th>2</th>\n      <td>2014</td>\n      <td>1.000000</td>\n      <td>0</td>\n      <td>N</td>\n      <td>V</td>\n      <td>V</td>\n      <td>U</td>\n      <td>595.0</td>\n      <td>1</td>\n      <td>1960.0</td>\n      <td>0</td>\n    </tr>\n    <tr>\n      <th>3</th>\n      <td>2013</td>\n      <td>1.000000</td>\n      <td>0</td>\n      <td>V</td>\n      <td>V</td>\n      <td>V</td>\n      <td>U</td>\n      <td>2840.0</td>\n      <td>1</td>\n      <td>1960.0</td>\n      <td>0</td>\n    </tr>\n    <tr>\n      <th>5</th>\n      <td>2012</td>\n      <td>1.000000</td>\n      <td>0</td>\n      <td>V</td>\n      <td>N</td>\n      <td>O</td>\n      <td>R</td>\n      <td>535.0</td>\n      <td>1</td>\n      <td>1980.0</td>\n      <td>0</td>\n    </tr>\n    <tr>\n      <th>6</th>\n      <td>2012</td>\n      <td>1.000000</td>\n      <td>0</td>\n      <td>N</td>\n      <td>V</td>\n      <td>V</td>\n      <td>U</td>\n      <td>2830.0</td>\n      <td>1</td>\n      <td>1988.0</td>\n      <td>0</td>\n    </tr>\n    <tr>\n      <th>10</th>\n      <td>2013</td>\n      <td>0.241096</td>\n      <td>0</td>\n      <td>V</td>\n      <td>N</td>\n      <td>O</td>\n      <td>R</td>\n      <td>550.0</td>\n      <td>1</td>\n      <td>1960.0</td>\n      <td>0</td>\n    </tr>\n    <tr>\n      <th>11</th>\n      <td>2013</td>\n      <td>1.000000</td>\n      <td>0</td>\n      <td>V</td>\n      <td>V</td>\n      <td>V</td>\n      <td>U</td>\n      <td>910.0</td>\n      <td>1</td>\n      <td>1960.0</td>\n      <td>0</td>\n    </tr>\n    <tr>\n      <th>14</th>\n      <td>2012</td>\n      <td>1.000000</td>\n      <td>0</td>\n      <td>N</td>\n      <td>V</td>\n      <td>V</td>\n      <td>U</td>\n      <td>560.0</td>\n      <td>1</td>\n      <td>1960.0</td>\n      <td>0</td>\n    </tr>\n    <tr>\n      <th>16</th>\n      <td>2014</td>\n      <td>1.000000</td>\n      <td>0</td>\n      <td>N</td>\n      <td>V</td>\n      <td>V</td>\n      <td>U</td>\n      <td>3990.0</td>\n      <td>1</td>\n      <td>1988.0</td>\n      <td>1</td>\n    </tr>\n    <tr>\n      <th>17</th>\n      <td>2015</td>\n      <td>1.000000</td>\n      <td>0</td>\n      <td>N</td>\n      <td>V</td>\n      <td>V</td>\n      <td>U</td>\n      <td>3990.0</td>\n      <td>1</td>\n      <td>1988.0</td>\n      <td>0</td>\n    </tr>\n    <tr>\n      <th>18</th>\n      <td>2015</td>\n      <td>1.000000</td>\n      <td>0</td>\n      <td>V</td>\n      <td>N</td>\n      <td>O</td>\n      <td>R</td>\n      <td>2444.0</td>\n      <td>1</td>\n      <td>1970.0</td>\n      <td>0</td>\n    </tr>\n  </tbody>\n</table>\n</div>"
     },
     "execution_count": 3,
     "metadata": {},
     "output_type": "execute_result"
    }
   ],
   "source": [
    "# Importing the training data set  by invoking the wrangle function\n",
    "df = wrangle(\"train_data.csv\")\n",
    "print(\"df shape\", df.shape)\n",
    "df.head(10)"
   ],
   "metadata": {
    "collapsed": false,
    "ExecuteTime": {
     "end_time": "2023-11-16T15:55:13.821787372Z",
     "start_time": "2023-11-16T15:55:13.439597631Z"
    }
   },
   "id": "f129f180425ded22"
  },
  {
   "cell_type": "markdown",
   "source": [
    "At this point , the shape of our data frame is 7160 observations (rows) and 14 features (variables)"
   ],
   "metadata": {
    "collapsed": false
   },
   "id": "512abc6c47209a9c"
  },
  {
   "cell_type": "markdown",
   "source": [
    "# Checking for missing values \n",
    "The first step was to check if our data had any missing values as this might impact highly on all other parts of the analysis. \n"
   ],
   "metadata": {
    "collapsed": false
   },
   "id": "c513322c83e83db4"
  },
  {
   "cell_type": "code",
   "execution_count": 4,
   "outputs": [
    {
     "name": "stdout",
     "output_type": "stream",
     "text": [
      "<class 'pandas.core.frame.DataFrame'>\n",
      "RangeIndex: 7160 entries, 0 to 7159\n",
      "Data columns (total 14 columns):\n",
      " #   Column              Non-Null Count  Dtype  \n",
      "---  ------              --------------  -----  \n",
      " 0   Customer Id         7160 non-null   object \n",
      " 1   YearOfObservation   7160 non-null   int64  \n",
      " 2   Insured_Period      7160 non-null   float64\n",
      " 3   Residential         7160 non-null   int64  \n",
      " 4   Building_Painted    7160 non-null   object \n",
      " 5   Building_Fenced     7160 non-null   object \n",
      " 6   Garden              7160 non-null   object \n",
      " 7   Settlement          7160 non-null   object \n",
      " 8   Building Dimension  7160 non-null   float64\n",
      " 9   Building_Type       7160 non-null   int64  \n",
      " 10  Date_of_Occupancy   7160 non-null   float64\n",
      " 11  NumberOfWindows     7160 non-null   object \n",
      " 12  Geo_Code            7160 non-null   object \n",
      " 13  Claim               7160 non-null   int64  \n",
      "dtypes: float64(3), int64(4), object(7)\n",
      "memory usage: 783.2+ KB\n"
     ]
    }
   ],
   "source": [
    "df.info()"
   ],
   "metadata": {
    "collapsed": false,
    "ExecuteTime": {
     "end_time": "2023-11-03T07:30:23.731098060Z",
     "start_time": "2023-11-03T07:30:23.646120710Z"
    }
   },
   "id": "4936493135258d9a"
  },
  {
   "cell_type": "code",
   "execution_count": 8,
   "outputs": [
    {
     "data": {
      "text/plain": "YearOfObservation     0\nInsured_Period        0\nResidential           0\nBuilding_Painted      0\nBuilding_Fenced       0\nGarden                0\nSettlement            0\nBuilding Dimension    0\nBuilding_Type         0\nDate_of_Occupancy     0\nClaim                 0\ndtype: int64"
     },
     "execution_count": 8,
     "metadata": {},
     "output_type": "execute_result"
    }
   ],
   "source": [
    "# Checking for missing values \n",
    "df.isnull().sum()"
   ],
   "metadata": {
    "collapsed": false,
    "ExecuteTime": {
     "end_time": "2023-11-14T16:13:15.525450657Z",
     "start_time": "2023-11-14T16:13:15.432948227Z"
    }
   },
   "id": "c146f1af0eae05d6"
  },
  {
   "cell_type": "markdown",
   "source": [
    "The data has a significant number of missing values. Specifically the variables with missing values were as follows; Building Dimension (106), Date of Occupancy (508) , GeoCode (102) and Garden(7).\n",
    "\n",
    "There are two main ways of dealing with missing values is to replace them with central measures of tendency (Mean, Median or Mode) or drop them completely. The mean and median work well with continuous variables while the Mode works well with categorical variables."
   ],
   "metadata": {
    "collapsed": false
   },
   "id": "1ef13ed41dc84333"
  },
  {
   "cell_type": "code",
   "execution_count": 457,
   "outputs": [
    {
     "data": {
      "text/plain": "<Figure size 640x480 with 1 Axes>",
      "image/png": "[encoded data removed]"
     },
     "metadata": {},
     "output_type": "display_data"
    }
   ],
   "source": [
    "# Exploring Building Dimension dealing with missing values using a box plot \n",
    "plt.hist(df[\"Building Dimension\"], bins=30, color='blue', alpha=0.5)\n",
    "plt.xlabel(\"Building Dimensions\")\n",
    "plt.ylabel(\"Frequency\")\n",
    "plt.title(\"Distribution of Building Dimensions (Histogram)\")\n",
    "plt.show()"
   ],
   "metadata": {
    "collapsed": false,
    "ExecuteTime": {
     "end_time": "2023-11-14T20:34:55.444063562Z",
     "start_time": "2023-11-14T20:34:54.710775697Z"
    }
   },
   "id": "a8806693a186d465"
  },
  {
   "cell_type": "code",
   "execution_count": 458,
   "outputs": [
    {
     "data": {
      "text/plain": "count     5776.000000\nmean      1869.886080\nstd       2290.699871\nmin          1.000000\n25%        533.500000\n50%       1083.000000\n75%       2240.000000\nmax      20940.000000\nName: Building Dimension, dtype: float64"
     },
     "execution_count": 458,
     "metadata": {},
     "output_type": "execute_result"
    }
   ],
   "source": [
    "df[\"Building Dimension\"].describe()"
   ],
   "metadata": {
    "collapsed": false,
    "ExecuteTime": {
     "end_time": "2023-11-14T20:35:00.487730162Z",
     "start_time": "2023-11-14T20:35:00.364718145Z"
    }
   },
   "id": "fcef233a86852210"
  },
  {
   "cell_type": "code",
   "execution_count": 44,
   "outputs": [
    {
     "data": {
      "text/plain": "<Figure size 640x480 with 1 Axes>",
      "image/png": "[encoded data removed]"
     },
     "metadata": {},
     "output_type": "display_data"
    }
   ],
   "source": [
    "# Exploring the Date of occupancy  before dealing with missing values using a box plot \n",
    "plt.hist(df[\"Date_of_Occupancy\"], bins=30, color='blue', alpha=0.5)\n",
    "plt.xlabel(\"Date_of_Occupancy\")\n",
    "plt.ylabel(\"Frequency\")\n",
    "plt.title(\"Distribution of Date_of_Occupancy (Histogram)\")\n",
    "plt.show()"
   ],
   "metadata": {
    "collapsed": false,
    "ExecuteTime": {
     "end_time": "2023-11-02T22:28:11.849041684Z",
     "start_time": "2023-11-02T22:28:11.614071629Z"
    }
   },
   "id": "a0cc6499ae52f7a8"
  },
  {
   "cell_type": "code",
   "execution_count": 9,
   "outputs": [
    {
     "data": {
      "text/plain": "count    5751.000000\nmean     1964.416449\nstd        35.069758\nmin      1545.000000\n25%      1960.000000\n50%      1970.000000\n75%      1980.000000\nmax      2016.000000\nName: Date_of_Occupancy, dtype: float64"
     },
     "execution_count": 9,
     "metadata": {},
     "output_type": "execute_result"
    }
   ],
   "source": [
    "df[\"Date_of_Occupancy\"].describe()"
   ],
   "metadata": {
    "collapsed": false,
    "ExecuteTime": {
     "end_time": "2023-11-13T18:43:47.402356547Z",
     "start_time": "2023-11-13T18:43:47.066929639Z"
    }
   },
   "id": "94fcc4960654002e"
  },
  {
   "cell_type": "code",
   "execution_count": 47,
   "outputs": [
    {
     "data": {
      "text/plain": "Date_of_Occupancy\n1960.0    1818\n1980.0    1155\n1988.0     530\n1900.0     371\n1970.0     285\n          ... \n1931.0       1\n1824.0       1\n1914.0       1\n1846.0       1\n1929.0       1\nName: count, Length: 134, dtype: int64"
     },
     "execution_count": 47,
     "metadata": {},
     "output_type": "execute_result"
    }
   ],
   "source": [
    "df[\"Date_of_Occupancy\"].value_counts()"
   ],
   "metadata": {
    "collapsed": false,
    "ExecuteTime": {
     "end_time": "2023-11-02T22:38:11.687229692Z",
     "start_time": "2023-11-02T22:38:11.633230304Z"
    }
   },
   "id": "d3570101a74108a5"
  },
  {
   "cell_type": "markdown",
   "source": [
    "From the histograms we can tell that both variables have a skewed distribution. As a result, the median was chosen to replace the missing values. Since the GeoCode and Garden are categorical in nature, the mode is chosen to replace the missing values.\n",
    "\n",
    "Note :I Assume took date of occupancy as a continuous variable"
   ],
   "metadata": {
    "collapsed": false
   },
   "id": "1e2e1b55eb954e78"
  },
  {
   "cell_type": "code",
   "execution_count": 52,
   "outputs": [],
   "source": [
    "# The code for dealing with categorical $ variables was put in the wrangle function above\n",
    "\n",
    "\n",
    "#fill missing values with mode value\n",
    "#df['Garden'].fillna(df['Garden'].mode()[0],inplace=True)\n",
    "#df['Geo_Code'].fillna(df['Geo_Code'].mode()[0],inplace=True)\n",
    "#fill missing values with median\n",
    "#df['Building Dimension'].fillna(df['Building Dimension'].median(),inplace=True)\n",
    "#df['Date_of_Occupancy'].fillna(df['Date_of_Occupancy'].median(),inplace=True)\n"
   ],
   "metadata": {
    "collapsed": false,
    "ExecuteTime": {
     "end_time": "2023-11-02T22:49:31.330328102Z",
     "start_time": "2023-11-02T22:49:31.284385653Z"
    }
   },
   "id": "1f4dd45e0a17ba97"
  },
  {
   "cell_type": "code",
   "execution_count": 53,
   "outputs": [
    {
     "data": {
      "text/plain": "Customer Id           0\nYearOfObservation     0\nInsured_Period        0\nResidential           0\nBuilding_Painted      0\nBuilding_Fenced       0\nGarden                0\nSettlement            0\nBuilding Dimension    0\nBuilding_Type         0\nDate_of_Occupancy     0\nNumberOfWindows       0\nGeo_Code              0\nClaim                 0\ndtype: int64"
     },
     "execution_count": 53,
     "metadata": {},
     "output_type": "execute_result"
    }
   ],
   "source": [
    "df.isnull().sum()"
   ],
   "metadata": {
    "collapsed": false,
    "ExecuteTime": {
     "end_time": "2023-11-02T22:49:37.045164241Z",
     "start_time": "2023-11-02T22:49:37.038566161Z"
    }
   },
   "id": "79660f40a6423c0f"
  },
  {
   "cell_type": "code",
   "execution_count": 55,
   "outputs": [
    {
     "data": {
      "text/plain": "0"
     },
     "execution_count": 55,
     "metadata": {},
     "output_type": "execute_result"
    }
   ],
   "source": [
    "# Checking for duplicates \n",
    "df.duplicated().sum()"
   ],
   "metadata": {
    "collapsed": false,
    "ExecuteTime": {
     "end_time": "2023-11-02T22:51:59.166928636Z",
     "start_time": "2023-11-02T22:51:59.145462659Z"
    }
   },
   "id": "51c5e8deb50e5d3"
  },
  {
   "cell_type": "markdown",
   "source": [
    "No duplicates found"
   ],
   "metadata": {
    "collapsed": false
   },
   "id": "e9b6c28fcef7cd27"
  },
  {
   "cell_type": "markdown",
   "source": [
    "# Exploratory Data Analysis"
   ],
   "metadata": {
    "collapsed": false
   },
   "id": "92ffcc21562a97e7"
  },
  {
   "cell_type": "markdown",
   "source": [
    "### Exploring the target Variable Distribution"
   ],
   "metadata": {
    "collapsed": false
   },
   "id": "b39e8423e4ad54e6"
  },
  {
   "cell_type": "code",
   "execution_count": 14,
   "outputs": [
    {
     "data": {
      "text/plain": "Claim\n0    5526\n1    1634\nName: count, dtype: int64"
     },
     "execution_count": 14,
     "metadata": {},
     "output_type": "execute_result"
    }
   ],
   "source": [
    "df[\"Claim\"].unique()\n",
    "df[\"Claim\"].value_counts()"
   ],
   "metadata": {
    "collapsed": false,
    "ExecuteTime": {
     "end_time": "2023-11-03T15:02:28.177111009Z",
     "start_time": "2023-11-03T15:02:28.093656912Z"
    }
   },
   "id": "e13ec19fff815b8c"
  },
  {
   "cell_type": "code",
   "execution_count": 14,
   "outputs": [],
   "source": [],
   "metadata": {
    "collapsed": false,
    "ExecuteTime": {
     "end_time": "2023-11-03T15:02:33.102100564Z",
     "start_time": "2023-11-03T15:02:33.050326485Z"
    }
   },
   "id": "25b60f789b13f1b5"
  },
  {
   "cell_type": "code",
   "execution_count": 15,
   "outputs": [
    {
     "data": {
      "text/plain": "<Figure size 640x480 with 1 Axes>",
      "image/png": "[encoded data removed]"
     },
     "metadata": {},
     "output_type": "display_data"
    }
   ],
   "source": [
    "# Sample data (replace with your actual data)\n",
    "values = [df[\"Claim\"].sum(), len(df) - df[\"Claim\"].sum()]\n",
    "labels = ['Claimed over the insured period.', 'No Claimed over the insured period.']\n",
    "\n",
    "# Create a pie chart with labeled segments\n",
    "plt.pie(values, labels=labels, autopct='%1.1f%%', startangle=140)\n",
    "plt.title(\"Insurance claim Distribution\")\n",
    "\n",
    "plt.axis('equal')  # Equal aspect ratio ensures that the pie chart is circular\n",
    "\n",
    "plt.show()"
   ],
   "metadata": {
    "collapsed": false,
    "ExecuteTime": {
     "end_time": "2023-11-03T15:02:34.526503519Z",
     "start_time": "2023-11-03T15:02:34.384245311Z"
    }
   },
   "id": "ed747ce8f1cb6caa"
  },
  {
   "cell_type": "markdown",
   "source": [
    "The target variable is highly imbalanced , and so we shall need to balance it "
   ],
   "metadata": {
    "collapsed": false
   },
   "id": "5b4248f64814b74e"
  },
  {
   "cell_type": "markdown",
   "source": [
    "### Exploring other variables"
   ],
   "metadata": {
    "collapsed": false
   },
   "id": "6bc247526a779040"
  },
  {
   "cell_type": "markdown",
   "source": [
    "#### 1. Continous  Variables "
   ],
   "metadata": {
    "collapsed": false
   },
   "id": "56c5bc6ff9f72cf3"
  },
  {
   "cell_type": "code",
   "execution_count": 19,
   "outputs": [
    {
     "data": {
      "text/plain": "       YearOfObservation  Insured_Period  Residential  Building Dimension  \\\ncount        4686.000000     4686.000000  4686.000000         4686.000000   \nmean         2013.666453        0.911699     0.293641         1389.158344   \nstd             1.384444        0.240086     0.455478          982.316709   \nmin          2012.000000        0.000000     0.000000          330.000000   \n25%          2012.000000        1.000000     0.000000          600.000000   \n50%          2013.000000        1.000000     0.000000         1083.000000   \n75%          2015.000000        1.000000     1.000000         1900.000000   \nmax          2016.000000        1.000000     1.000000         4300.000000   \n\n       Building_Type  Date_of_Occupancy        Claim  \ncount    4686.000000        4686.000000  4686.000000  \nmean        2.199744        1967.946223     0.209347  \nstd         0.938338          15.541266     0.406886  \nmin         1.000000        1920.000000     0.000000  \n25%         2.000000        1960.000000     0.000000  \n50%         2.000000        1970.000000     0.000000  \n75%         3.000000        1980.000000     0.000000  \nmax         4.000000        1999.000000     1.000000  ",
      "text/html": "<div>\n<style scoped>\n    .dataframe tbody tr th:only-of-type {\n        vertical-align: middle;\n    }\n\n    .dataframe tbody tr th {\n        vertical-align: top;\n    }\n\n    .dataframe thead th {\n        text-align: right;\n    }\n</style>\n<table border=\"1\" class=\"dataframe\">\n  <thead>\n    <tr style=\"text-align: right;\">\n      <th></th>\n      <th>YearOfObservation</th>\n      <th>Insured_Period</th>\n      <th>Residential</th>\n      <th>Building Dimension</th>\n      <th>Building_Type</th>\n      <th>Date_of_Occupancy</th>\n      <th>Claim</th>\n    </tr>\n  </thead>\n  <tbody>\n    <tr>\n      <th>count</th>\n      <td>4686.000000</td>\n      <td>4686.000000</td>\n      <td>4686.000000</td>\n      <td>4686.000000</td>\n      <td>4686.000000</td>\n      <td>4686.000000</td>\n      <td>4686.000000</td>\n    </tr>\n    <tr>\n      <th>mean</th>\n      <td>2013.666453</td>\n      <td>0.911699</td>\n      <td>0.293641</td>\n      <td>1389.158344</td>\n      <td>2.199744</td>\n      <td>1967.946223</td>\n      <td>0.209347</td>\n    </tr>\n    <tr>\n      <th>std</th>\n      <td>1.384444</td>\n      <td>0.240086</td>\n      <td>0.455478</td>\n      <td>982.316709</td>\n      <td>0.938338</td>\n      <td>15.541266</td>\n      <td>0.406886</td>\n    </tr>\n    <tr>\n      <th>min</th>\n      <td>2012.000000</td>\n      <td>0.000000</td>\n      <td>0.000000</td>\n      <td>330.000000</td>\n      <td>1.000000</td>\n      <td>1920.000000</td>\n      <td>0.000000</td>\n    </tr>\n    <tr>\n      <th>25%</th>\n      <td>2012.000000</td>\n      <td>1.000000</td>\n      <td>0.000000</td>\n      <td>600.000000</td>\n      <td>2.000000</td>\n      <td>1960.000000</td>\n      <td>0.000000</td>\n    </tr>\n    <tr>\n      <th>50%</th>\n      <td>2013.000000</td>\n      <td>1.000000</td>\n      <td>0.000000</td>\n      <td>1083.000000</td>\n      <td>2.000000</td>\n      <td>1970.000000</td>\n      <td>0.000000</td>\n    </tr>\n    <tr>\n      <th>75%</th>\n      <td>2015.000000</td>\n      <td>1.000000</td>\n      <td>1.000000</td>\n      <td>1900.000000</td>\n      <td>3.000000</td>\n      <td>1980.000000</td>\n      <td>0.000000</td>\n    </tr>\n    <tr>\n      <th>max</th>\n      <td>2016.000000</td>\n      <td>1.000000</td>\n      <td>1.000000</td>\n      <td>4300.000000</td>\n      <td>4.000000</td>\n      <td>1999.000000</td>\n      <td>1.000000</td>\n    </tr>\n  </tbody>\n</table>\n</div>"
     },
     "execution_count": 19,
     "metadata": {},
     "output_type": "execute_result"
    }
   ],
   "source": [
    "df.describe()"
   ],
   "metadata": {
    "collapsed": false,
    "ExecuteTime": {
     "end_time": "2023-11-03T15:08:11.712366191Z",
     "start_time": "2023-11-03T15:08:11.630747478Z"
    }
   },
   "id": "bb4ff853b8e4281"
  },
  {
   "cell_type": "markdown",
   "source": [
    "We can clearly see that we have outliers in Building Dimension and Date of Occupancy\n",
    "\n",
    "We shall use the quantile method to remove the outliers\n",
    "Add to your wrangle function so that it removes observations that are outliers in the \"Building Dimension\" and \"Date of Occupancy\" column. Specifically, all observations should fall between the 0.1 and 0.9 quantiles for these variables."
   ],
   "metadata": {
    "collapsed": false
   },
   "id": "f949e2968982ac4d"
  },
  {
   "cell_type": "code",
   "execution_count": 10,
   "outputs": [],
   "source": [
    " # Remove outliers by \"Building Dimension\"\n",
    "#low, high = df[\"Building Dimension\"].quantile([0.1, 0.9])\n",
    "#mask_dim = df[\"Building Dimension\"].between(low, high)\n",
    "#df=df[mask_dim]\n",
    "\n",
    "# Remove outliers by \"Date_of_Occupancy\"\n",
    "#low, high = df[\"Date_of_Occupancy\"].quantile([0.1, 0.9])\n",
    "#mask_date = df[\"Date_of_Occupancy\"].between(low, high)\n",
    "#df=df[mask_date]"
   ],
   "metadata": {
    "collapsed": false,
    "ExecuteTime": {
     "end_time": "2023-11-03T14:58:27.708070109Z",
     "start_time": "2023-11-03T14:58:27.557499016Z"
    }
   },
   "id": "741eb4901641e4bd"
  },
  {
   "cell_type": "markdown",
   "source": [
    "Building Dimensions and Date of occupancy had outliers and these were removed using the quantile method."
   ],
   "metadata": {
    "collapsed": false
   },
   "id": "e5ce989153b3dc4d"
  },
  {
   "cell_type": "markdown",
   "source": [
    "### Distribution of insured period and Claim"
   ],
   "metadata": {
    "collapsed": false
   },
   "id": "23887af773254eac"
  },
  {
   "cell_type": "code",
   "execution_count": 71,
   "outputs": [
    {
     "data": {
      "text/plain": "array([1.        , 0.24109589, 0.84383562, 0.95628415, 0.99726776,\n       0.08493151, 0.85753425, 0.29589041, 0.        , 0.78142077,\n       0.91506849, 0.98630137, 0.16164384, 0.99726027, 0.09589041,\n       0.66575343, 0.89315069, 0.02459016, 0.58082192, 0.83287671,\n       0.26027397, 0.7479452 , 0.41803279, 0.10410959, 0.76986301,\n       0.02465753, 0.47671233, 0.86575342, 0.55464481, 0.16393443,\n       0.44808743, 0.50273224, 0.75136612, 0.08196721, 0.46849315,\n       0.79726027, 0.31506849, 0.59452055, 0.74863388, 0.17534247,\n       0.11780822, 0.12054795, 0.49589041, 0.91530055, 0.48087432,\n       0.78082192, 0.02191781, 0.49453552, 0.2431694 , 0.24863388,\n       0.69589041, 0.94794521, 0.91256831, 0.50410959, 0.82739726,\n       0.52054795, 0.33333333, 0.58196721, 0.86885246, 0.57923497,\n       0.83606557, 0.66393443, 0.98356164, 0.24657534, 0.99453552,\n       0.74590164, 0.79178082, 0.19452055, 0.96721311, 0.41643836,\n       0.95342466, 0.41369863, 0.25205479, 0.80273973, 0.98907104,\n       0.38356164, 0.91780822, 0.25136612, 0.70491803, 0.15068493,\n       0.48493151, 0.96448087, 0.62191781, 0.12021858, 0.63114754,\n       0.21369863, 0.92328767, 0.82786885, 0.3369863 , 0.32876712,\n       0.84931507, 0.81967213, 0.42076503, 0.84657534, 0.41530055,\n       0.64657534, 0.96712329, 0.27123288, 0.89863014, 0.33972603,\n       0.66849315, 0.50958904, 0.78356164, 0.08767123, 0.03835616,\n       0.75409836, 0.29315069, 0.57103825, 0.25956284, 0.75342466,\n       0.65753425, 0.44383562, 0.67123288, 0.72876712, 0.16666667,\n       0.79452055, 0.43169399, 0.35890411, 0.4109589 , 0.18356164,\n       0.03005465, 0.21917808, 0.77808219, 0.32328767, 0.39344262,\n       0.47540984, 0.46575342, 0.22465753, 0.73150685, 0.19125683,\n       0.46721312, 0.49315068, 0.24590164, 0.97808219, 0.91232877,\n       0.90163934, 0.54644809, 0.09315068, 0.5369863 , 0.01639344,\n       0.36712329, 0.45753425, 0.95890411, 0.25479452, 0.83835616,\n       0.08219178, 0.61202186, 0.23770492, 0.80327869, 0.14754098,\n       0.03825137, 0.16712329, 0.12876712, 0.87123288, 0.74520548,\n       0.33060109, 0.0739726 , 0.07671233, 0.08469945, 0.15890411,\n       0.14246575, 0.23561644, 0.72054794, 0.12328767, 0.53972603,\n       0.13150685, 0.89041096, 0.29781421, 0.21311475, 0.83333333,\n       0.61369863, 0.9726776 , 0.77868852, 0.35245902, 0.58469945,\n       0.93715847, 0.71311475, 0.95616438, 0.48219178, 0.3479452 ,\n       0.18630137, 0.2109589 , 0.45081967, 0.95355191, 0.82240437,\n       0.6420765 , 0.63387978, 0.96438356, 0.86849315, 0.56284153,\n       0.37704918, 0.57377049, 0.10684932, 0.23013699, 0.63013699,\n       0.88219178, 0.21643836, 0.81643836, 0.10958904, 0.1890411 ,\n       0.8739726 , 0.26849315, 0.75068493, 0.84109589, 0.68032787,\n       0.82191781, 0.86027397, 0.59726027, 0.56712329, 0.43561644,\n       0.54098361, 0.33424657, 0.63287671, 0.30874317, 0.43715847,\n       0.57808219, 0.92076503, 0.93150685, 0.32054795, 0.81369863,\n       0.87431694, 0.7369863 , 0.715847  , 0.45355191, 0.16438356,\n       0.77534247, 0.8       , 0.83060109, 0.03278689, 0.60547945,\n       0.49726776, 0.06027397, 0.42896175, 0.9260274 , 0.58630137,\n       0.19726027, 0.06010929, 0.60655738, 0.19398907, 0.43835616,\n       0.45901639, 0.27671233, 0.81917808, 0.66666667, 0.45479452,\n       0.22191781, 0.85479452, 0.95068493, 0.90710382, 0.8442623 ,\n       0.88767123, 0.94246575, 0.94520548, 0.60928962, 0.97260274,\n       0.53551913, 0.09863014, 0.44535519, 0.64109589, 0.9369863 ,\n       0.67486339, 0.17260274, 0.07103825, 0.90684931, 0.48767123,\n       0.19672131, 0.70958904, 0.51780822, 0.30136986, 0.06557377,\n       0.89344262, 0.88493151, 0.47123288, 0.47945205, 0.93424657,\n       0.22739726, 0.90136986, 0.20547945, 0.99452055, 0.34426229,\n       0.29508197, 0.2       , 0.6630137 , 0.82465753, 0.52328767,\n       0.0520548 , 0.75616438, 0.7890411 , 0.15300546, 0.55616438,\n       0.10928962, 0.51092896, 0.76712329, 0.5273224 , 0.36164384,\n       0.96174863, 0.84699454, 0.30054645, 0.28493151, 0.83879781,\n       0.53424657, 0.89071038, 0.00273224, 0.80547945, 0.97534247,\n       0.54520548, 0.87978142, 0.04918033, 0.04644809, 0.79781421,\n       0.2630137 , 0.56010929, 0.88251366, 0.20821918, 0.04109589,\n       0.38082192, 0.18082192, 0.88797814, 0.90958904, 0.24931507,\n       0.78961749, 0.31147541, 0.96164384, 0.73424658, 0.12295082,\n       0.14480874, 0.95081967, 0.29041096, 0.65205479, 0.1369863 ,\n       0.30327869, 0.1147541 , 0.15846995, 0.79508197, 0.6       ,\n       0.90983607, 0.46448087, 0.83013699, 0.56438356, 0.34520548,\n       0.4520548 , 0.33150685, 0.54371585, 0.01092896, 0.34153005,\n       0.17759563, 0.69315068, 0.04383562, 0.5       , 0.54918033,\n       0.44931507, 0.20218579, 0.07945205, 0.71038251, 0.37808219,\n       0.68852459, 0.52185792, 0.5260274 , 0.69863014, 0.6739726 ,\n       0.05191257, 0.5479452 , 0.60382514, 0.79234973, 0.7431694 ,\n       0.16986301, 0.9890411 , 0.70218579, 0.80821918, 0.46994536,\n       0.05753425, 0.75956284, 0.60821918, 0.68219178, 0.07923497,\n       0.33879781, 0.18032787, 0.06830601, 0.37260274, 0.94262295,\n       0.17213115, 0.92896175, 0.85519126, 0.32786885, 0.99178082,\n       0.81147541, 0.05479452, 0.78630137, 0.8109589 , 0.43442623,\n       0.67759563, 0.40273973, 0.96986301, 0.15342466, 0.58356164,\n       0.04657534, 0.66027397, 0.03561644, 0.73972603, 0.94535519,\n       0.03013699])"
     },
     "execution_count": 71,
     "metadata": {},
     "output_type": "execute_result"
    }
   ],
   "source": [
    "df[\"Insured_Period\"].unique()"
   ],
   "metadata": {
    "collapsed": false,
    "ExecuteTime": {
     "end_time": "2023-11-02T23:24:20.612139581Z",
     "start_time": "2023-11-02T23:24:20.600722605Z"
    }
   },
   "id": "e18639934225f2d8"
  },
  {
   "cell_type": "code",
   "execution_count": 74,
   "outputs": [
    {
     "data": {
      "text/plain": "<Figure size 640x480 with 1 Axes>",
      "image/png": "[encoded data removed]"
     },
     "metadata": {},
     "output_type": "display_data"
    }
   ],
   "source": [
    "# Exploring Insured_period\n",
    "plt.hist(df[\"Insured_Period\"], bins=30, color='blue', alpha=0.5)\n",
    "plt.xlabel(\"Insured Period\")\n",
    "plt.ylabel(\"Frequency\")\n",
    "plt.title(\"Distribution of Insured Period (Histogram)\")\n",
    "plt.show()"
   ],
   "metadata": {
    "collapsed": false,
    "ExecuteTime": {
     "end_time": "2023-11-02T23:26:04.922923886Z",
     "start_time": "2023-11-02T23:26:04.767300372Z"
    }
   },
   "id": "5c2b24ff75884781"
  },
  {
   "cell_type": "code",
   "execution_count": 77,
   "outputs": [
    {
     "data": {
      "text/plain": "Text(0.5, 1.0, 'Distribution of Insured Period')"
     },
     "execution_count": 77,
     "metadata": {},
     "output_type": "execute_result"
    },
    {
     "data": {
      "text/plain": "<Figure size 640x480 with 1 Axes>",
      "image/png": "[encoded data removed]"
     },
     "metadata": {},
     "output_type": "display_data"
    }
   ],
   "source": [
    "plt.boxplot(df[\"Insured_Period\"],vert=False)\n",
    "plt.xlabel(\"Insured Period\")\n",
    "plt.title(\"Distribution of Insured Period\")"
   ],
   "metadata": {
    "collapsed": false,
    "ExecuteTime": {
     "end_time": "2023-11-02T23:28:20.597458160Z",
     "start_time": "2023-11-02T23:28:20.469141445Z"
    }
   },
   "id": "d0e24c8685d33b00"
  },
  {
   "cell_type": "code",
   "execution_count": 80,
   "outputs": [
    {
     "data": {
      "text/plain": "Claim\n0    0.898193\n1    0.948870\nName: Insured_Period, dtype: float64"
     },
     "execution_count": 80,
     "metadata": {},
     "output_type": "execute_result"
    }
   ],
   "source": [
    "# Insured period vs Claim\n",
    "mask_insured = df.groupby(\"Claim\")[\"Insured_Period\"].mean()\n",
    "mask_insured"
   ],
   "metadata": {
    "collapsed": false,
    "ExecuteTime": {
     "end_time": "2023-11-02T23:33:09.211732712Z",
     "start_time": "2023-11-02T23:33:09.181764130Z"
    }
   },
   "id": "50c68f6da20bf8be"
  },
  {
   "cell_type": "code",
   "execution_count": 85,
   "outputs": [
    {
     "data": {
      "text/plain": "<Figure size 640x480 with 1 Axes>",
      "image/png": "[encoded data removed]"
     },
     "metadata": {},
     "output_type": "display_data"
    }
   ],
   "source": [
    "mask_insured.plot(\n",
    "    kind = \"bar\",\n",
    "    xlabel = \"Claim\",\n",
    "    ylabel = \"Insured Period\",\n",
    "    title = \"Mean Insured Period by Claim\",\n",
    "    color=['blue', 'green']  # Specify the colors you want for each bar\n",
    ");"
   ],
   "metadata": {
    "collapsed": false,
    "ExecuteTime": {
     "end_time": "2023-11-02T23:39:51.266701048Z",
     "start_time": "2023-11-02T23:39:51.135891119Z"
    }
   },
   "id": "e333edef83b6b3aa"
  },
  {
   "cell_type": "code",
   "execution_count": 97,
   "outputs": [
    {
     "data": {
      "text/plain": "<Figure size 640x480 with 1 Axes>",
      "image/png": "[encoded data removed]"
     },
     "metadata": {},
     "output_type": "display_data"
    }
   ],
   "source": [
    "# Separate the data based on the 'Claim' values\n",
    "claim_1 = df[df['Claim'] == 1]\n",
    "claim_0 = df[df['Claim'] == 0]\n",
    "\n",
    "# Create a histogram for 'Building Dimension' by 'Claim' category\n",
    "plt.hist(claim_1['Insured_Period'], bins=20, alpha=0.7, color='blue', label='Claim = 1', density=True)\n",
    "plt.hist(claim_0['Insured_Period'], bins=20, alpha=0.7, color='green', label='Claim = 0', density=True)\n",
    "\n",
    "plt.xlabel('Insured Period')\n",
    "plt.ylabel('Density')\n",
    "plt.title('Histogram of Insured Period by Claim Status')\n",
    "plt.legend()\n",
    "\n",
    "plt.show()"
   ],
   "metadata": {
    "collapsed": false,
    "ExecuteTime": {
     "end_time": "2023-11-03T00:04:15.710278190Z",
     "start_time": "2023-11-03T00:04:15.482678721Z"
    }
   },
   "id": "5f5946a83e7d7194"
  },
  {
   "cell_type": "markdown",
   "source": [
    "The majority of the customers who claimed and also dnt claim had an insured period between 0.8 and 1"
   ],
   "metadata": {
    "collapsed": false
   },
   "id": "d831ff4ffe3ff8f7"
  },
  {
   "cell_type": "markdown",
   "source": [
    "### Exporing Building dimensions and Claim"
   ],
   "metadata": {
    "collapsed": false
   },
   "id": "2f543c0b3fbdced7"
  },
  {
   "cell_type": "code",
   "execution_count": 29,
   "outputs": [
    {
     "data": {
      "text/plain": "<Figure size 640x480 with 1 Axes>",
      "image/png": "[encoded data removed]"
     },
     "metadata": {},
     "output_type": "display_data"
    }
   ],
   "source": [
    "# Exploring Building Dimension dealing with missing values using a box plot \n",
    "plt.hist(df[\"Building Dimension\"], bins=30, color='blue', alpha=0.5)\n",
    "plt.xlabel(\"Building Dimensions\")\n",
    "plt.ylabel(\"Frequency\")\n",
    "plt.title(\"Distribution of Building Dimensions (Histogram)\")\n",
    "plt.show()"
   ],
   "metadata": {
    "collapsed": false,
    "ExecuteTime": {
     "end_time": "2023-11-03T09:00:57.802072323Z",
     "start_time": "2023-11-03T09:00:57.391535748Z"
    }
   },
   "id": "c36b6330fe4fc4d4"
  },
  {
   "cell_type": "code",
   "execution_count": 5,
   "outputs": [
    {
     "data": {
      "text/plain": "count    4686.000000\nmean     1389.158344\nstd       982.316709\nmin       330.000000\n25%       600.000000\n50%      1083.000000\n75%      1900.000000\nmax      4300.000000\nName: Building Dimension, dtype: float64"
     },
     "execution_count": 5,
     "metadata": {},
     "output_type": "execute_result"
    }
   ],
   "source": [
    "df['Building Dimension'].describe()"
   ],
   "metadata": {
    "collapsed": false,
    "ExecuteTime": {
     "end_time": "2023-11-13T18:08:00.650920569Z",
     "start_time": "2023-11-13T18:08:00.277269707Z"
    }
   },
   "id": "285d0d9150b6c9e6"
  },
  {
   "cell_type": "code",
   "execution_count": 30,
   "outputs": [
    {
     "data": {
      "text/plain": "Claim\n0    1278.862618\n1    1805.718654\nName: Building Dimension, dtype: float64"
     },
     "execution_count": 30,
     "metadata": {},
     "output_type": "execute_result"
    }
   ],
   "source": [
    "# Building_Dimension vs Claim\n",
    "mask_Building_Dimension = df.groupby(\"Claim\")[\"Building Dimension\"].mean()\n",
    "mask_Building_Dimension\n"
   ],
   "metadata": {
    "collapsed": false,
    "ExecuteTime": {
     "end_time": "2023-11-03T09:01:09.637193608Z",
     "start_time": "2023-11-03T09:01:09.495922322Z"
    }
   },
   "id": "c61f663ed549efde"
  },
  {
   "cell_type": "code",
   "execution_count": 31,
   "outputs": [
    {
     "data": {
      "text/plain": "<Figure size 640x480 with 1 Axes>",
      "image/png": "[encoded data removed]"
     },
     "metadata": {},
     "output_type": "display_data"
    }
   ],
   "source": [
    "mask_Building_Dimension.plot(\n",
    "    kind = \"bar\",\n",
    "    xlabel = \"Claim\",\n",
    "    ylabel = \"Building_Dimension\",\n",
    "    title = \"Mean Building_Dimension by Claim\",\n",
    "    color=['blue', 'green']  # Specify the colors you want for each bar\n",
    ");"
   ],
   "metadata": {
    "collapsed": false,
    "ExecuteTime": {
     "end_time": "2023-11-03T09:01:15.486637728Z",
     "start_time": "2023-11-03T09:01:15.004772437Z"
    }
   },
   "id": "fabe13226a11c985"
  },
  {
   "cell_type": "code",
   "execution_count": 32,
   "outputs": [
    {
     "data": {
      "text/plain": "<Figure size 640x480 with 1 Axes>",
      "image/png": "[encoded data removed]"
     },
     "metadata": {},
     "output_type": "display_data"
    }
   ],
   "source": [
    "# Separate the data based on the 'Claim' values\n",
    "claim_1 = df[df['Claim'] == 1]\n",
    "claim_0 = df[df['Claim'] == 0]\n",
    "\n",
    "# Create a histogram for 'Building Dimension' by 'Claim' category\n",
    "plt.hist(claim_1['Building Dimension'], bins=20, alpha=0.7, color='blue', label='Claim = 1', density=True)\n",
    "plt.hist(claim_0['Building Dimension'], bins=20, alpha=0.7, color='green', label='Claim = 0', density=True)\n",
    "\n",
    "plt.xlabel('Building Dimension')\n",
    "plt.ylabel('Density')\n",
    "plt.title('Histogram of Building Dimension by Claim Status')\n",
    "plt.legend()\n",
    "\n",
    "plt.show()\n",
    "\n",
    "\n",
    "\n",
    "\n",
    "\n"
   ],
   "metadata": {
    "collapsed": false,
    "ExecuteTime": {
     "end_time": "2023-11-03T09:01:24.050304586Z",
     "start_time": "2023-11-03T09:01:23.444585816Z"
    }
   },
   "id": "1e33c728f5a4bed0"
  },
  {
   "cell_type": "markdown",
   "source": [
    "The customers  who have at least a claim over the insured  , their houses have a relatively higher dimension compared to those who had no claim"
   ],
   "metadata": {
    "collapsed": false
   },
   "id": "8b8f9bed823bda2e"
  },
  {
   "cell_type": "markdown",
   "source": [
    "### Distribution Date of Occupancy and Claim"
   ],
   "metadata": {
    "collapsed": false
   },
   "id": "b414b0e7ac56a5cd"
  },
  {
   "cell_type": "code",
   "execution_count": 33,
   "outputs": [
    {
     "data": {
      "text/plain": "array([1960., 1980., 1988., 1970., 1950., 1940., 1920., 1982., 1972.,\n       1971., 1995., 1999., 1985., 1965., 1981., 1975., 1997., 1990.,\n       1930., 1973., 1991., 1974., 1967., 1957., 1978., 1949., 1951.,\n       1962., 1956., 1983., 1954., 1968., 1936., 1953., 1979., 1946.,\n       1955., 1976., 1961., 1964., 1984., 1958., 1986., 1993., 1977.,\n       1945., 1942., 1939., 1934., 1998., 1987., 1938., 1992., 1959.,\n       1966., 1989., 1996., 1963., 1948., 1952., 1969., 1994., 1931.,\n       1925., 1937., 1935., 1923., 1924., 1928., 1947., 1929.])"
     },
     "execution_count": 33,
     "metadata": {},
     "output_type": "execute_result"
    }
   ],
   "source": [
    "## Date_of_Occupancy\n",
    "df[\"Date_of_Occupancy\"].unique()"
   ],
   "metadata": {
    "collapsed": false,
    "ExecuteTime": {
     "end_time": "2023-11-03T09:01:33.079840450Z",
     "start_time": "2023-11-03T09:01:33.039441813Z"
    }
   },
   "id": "edefda4ca9a13251"
  },
  {
   "cell_type": "code",
   "execution_count": 34,
   "outputs": [
    {
     "data": {
      "text/plain": "<Figure size 640x480 with 1 Axes>",
      "image/png": "[encoded data removed]"
     },
     "metadata": {},
     "output_type": "display_data"
    }
   ],
   "source": [
    "# Exploring the Date of occupancy  before dealing with missing values using a box plot \n",
    "plt.hist(df[\"Date_of_Occupancy\"], bins=30, color='blue', alpha=0.5)\n",
    "plt.xlabel(\"Date_of_Occupancy\")\n",
    "plt.ylabel(\"Frequency\")\n",
    "plt.title(\"Distribution of Date_of_Occupancy (Histogram)\")\n",
    "plt.show()"
   ],
   "metadata": {
    "collapsed": false,
    "ExecuteTime": {
     "end_time": "2023-11-03T09:01:38.013869360Z",
     "start_time": "2023-11-03T09:01:37.386704129Z"
    }
   },
   "id": "7feaa0e8bf27d1b4"
  },
  {
   "cell_type": "code",
   "execution_count": 16,
   "outputs": [
    {
     "data": {
      "text/plain": "<Figure size 640x480 with 1 Axes>",
      "image/png": "[encoded data removed]"
     },
     "metadata": {},
     "output_type": "display_data"
    }
   ],
   "source": [
    "# Separate the data based on the 'Claim' values\n",
    "claim_1 = df[df['Claim'] == 1]\n",
    "claim_0 = df[df['Claim'] == 0]\n",
    "\n",
    "# Create a histogram for 'Building Dimension' by 'Claim' category\n",
    "plt.hist(claim_1['Date_of_Occupancy'], bins=20, alpha=0.7, color='blue', label='Claim = 1', density=True)\n",
    "plt.hist(claim_0['Date_of_Occupancy'], bins=20, alpha=0.7, color='green', label='Claim = 0', density=True)\n",
    "\n",
    "plt.xlabel('Date_of_Occupancy')\n",
    "plt.ylabel('Density')\n",
    "plt.title('Histogram of Date_of_Occupancy by Claim Status')\n",
    "plt.legend()\n",
    "# reordering the labels \n",
    "handles, labels = plt.gca().get_legend_handles_labels() \n",
    "  \n",
    "# specify order \n",
    "#order = [1,0] \n",
    "  \n",
    "# pass handle & labels lists along with order as below \n",
    "#plt.legend([handles[i] for i in order], [labels[i] for i in order]) \n",
    "\n",
    "#plt.show()"
   ],
   "metadata": {
    "collapsed": false,
    "ExecuteTime": {
     "end_time": "2023-11-05T11:09:03.905026894Z",
     "start_time": "2023-11-05T11:09:03.241994711Z"
    }
   },
   "id": "957e07b53c0bcf24"
  },
  {
   "cell_type": "code",
   "execution_count": 7,
   "outputs": [
    {
     "data": {
      "text/plain": "Claim\n0    1967.839406\n1    1968.349643\nName: Date_of_Occupancy, dtype: float64"
     },
     "execution_count": 7,
     "metadata": {},
     "output_type": "execute_result"
    }
   ],
   "source": [
    "mask_Date_of_Occupancy = df.groupby(\"Claim\")[\"Date_of_Occupancy\"].mean()\n",
    "mask_Date_of_Occupancy"
   ],
   "metadata": {
    "collapsed": false,
    "ExecuteTime": {
     "end_time": "2023-11-16T12:57:41.165660523Z",
     "start_time": "2023-11-16T12:57:41.085895630Z"
    }
   },
   "id": "794361c85a3f964a"
  },
  {
   "cell_type": "code",
   "execution_count": 8,
   "outputs": [
    {
     "data": {
      "text/plain": "<Figure size 640x480 with 1 Axes>",
      "image/png": "[encoded data removed]"
     },
     "metadata": {},
     "output_type": "display_data"
    }
   ],
   "source": [
    "mask_Date_of_Occupancy.plot(\n",
    "    kind = \"bar\",\n",
    "    xlabel = \"Claim\",\n",
    "    ylabel = \"Date_of_Occupancy\",\n",
    "    title = \"Mean Date_of_Occupancy by Claim\",\n",
    "    color=['blue', 'green']  # Specify the colors you want for each bar\n",
    ");"
   ],
   "metadata": {
    "collapsed": false,
    "ExecuteTime": {
     "end_time": "2023-11-16T12:57:43.122653322Z",
     "start_time": "2023-11-16T12:57:42.493342620Z"
    }
   },
   "id": "25a4669ccac5ae2e"
  },
  {
   "cell_type": "markdown",
   "source": [
    "### 2. Exploratory Data Analysis of Categorical  Variables "
   ],
   "metadata": {
    "collapsed": false
   },
   "id": "3bcbcfff17989982"
  },
  {
   "cell_type": "code",
   "execution_count": 104,
   "outputs": [
    {
     "name": "stdout",
     "output_type": "stream",
     "text": [
      "<class 'pandas.core.frame.DataFrame'>\n",
      "RangeIndex: 7160 entries, 0 to 7159\n",
      "Data columns (total 14 columns):\n",
      " #   Column              Non-Null Count  Dtype  \n",
      "---  ------              --------------  -----  \n",
      " 0   Customer Id         7160 non-null   object \n",
      " 1   YearOfObservation   7160 non-null   int64  \n",
      " 2   Insured_Period      7160 non-null   float64\n",
      " 3   Residential         7160 non-null   int64  \n",
      " 4   Building_Painted    7160 non-null   object \n",
      " 5   Building_Fenced     7160 non-null   object \n",
      " 6   Garden              7160 non-null   object \n",
      " 7   Settlement          7160 non-null   object \n",
      " 8   Building Dimension  7160 non-null   float64\n",
      " 9   Building_Type       7160 non-null   int64  \n",
      " 10  Date_of_Occupancy   7160 non-null   float64\n",
      " 11  NumberOfWindows     7160 non-null   object \n",
      " 12  Geo_Code            7160 non-null   object \n",
      " 13  Claim               7160 non-null   int64  \n",
      "dtypes: float64(3), int64(4), object(7)\n",
      "memory usage: 783.2+ KB\n"
     ]
    }
   ],
   "source": [
    "df.info()"
   ],
   "metadata": {
    "collapsed": false,
    "ExecuteTime": {
     "end_time": "2023-11-03T00:14:41.765596647Z",
     "start_time": "2023-11-03T00:14:41.689217593Z"
    }
   },
   "id": "217a1240b9a2f8c0"
  },
  {
   "cell_type": "markdown",
   "source": [
    "### Distribution of Residential and Claim"
   ],
   "metadata": {
    "collapsed": false
   },
   "id": "69e1c5eb661fb2e9"
  },
  {
   "cell_type": "code",
   "execution_count": 20,
   "outputs": [
    {
     "data": {
      "text/plain": "Residential\n0    3310\n1    1376\nName: count, dtype: int64"
     },
     "execution_count": 20,
     "metadata": {},
     "output_type": "execute_result"
    }
   ],
   "source": [
    "# Exploring Residential \n",
    "df[\"Residential\"].value_counts()"
   ],
   "metadata": {
    "collapsed": false,
    "ExecuteTime": {
     "end_time": "2023-11-03T15:22:41.978811990Z",
     "start_time": "2023-11-03T15:22:41.899517056Z"
    }
   },
   "id": "9de43143354cb09e"
  },
  {
   "cell_type": "code",
   "execution_count": 11,
   "outputs": [
    {
     "data": {
      "text/plain": "<Figure size 640x480 with 1 Axes>",
      "image/png": "[encoded data removed]"
     },
     "metadata": {},
     "output_type": "display_data"
    }
   ],
   "source": [
    "# Create a crosstab to count the occurrences\n",
    "crosstab = pd.crosstab(df['Claim'], df['Residential'])\n",
    "\n",
    "# Create a bar graph\n",
    "crosstab.plot(kind='bar', stacked=False, color=['blue', 'orange'])\n",
    "\n",
    "plt.xlabel('Claim')\n",
    "plt.ylabel('Count')\n",
    "plt.title('Bar Graph of Residential by Claim Status')\n",
    "\n",
    "plt.show()"
   ],
   "metadata": {
    "collapsed": false,
    "ExecuteTime": {
     "end_time": "2023-11-05T10:22:51.642029592Z",
     "start_time": "2023-11-05T10:22:51.210317191Z"
    }
   },
   "id": "cfb15f66edef2845"
  },
  {
   "cell_type": "markdown",
   "source": [
    "### Distribution of Building_Painted and its relationship with claim"
   ],
   "metadata": {
    "collapsed": false
   },
   "id": "cb217e5a9e5aba81"
  },
  {
   "cell_type": "code",
   "execution_count": 110,
   "outputs": [
    {
     "data": {
      "text/plain": "Building_Painted\nV    5382\nN    1778\nName: count, dtype: int64"
     },
     "execution_count": 110,
     "metadata": {},
     "output_type": "execute_result"
    }
   ],
   "source": [
    "# Exploring Building_Painted\n",
    "df[\"Building_Painted\"].value_counts()"
   ],
   "metadata": {
    "collapsed": false,
    "ExecuteTime": {
     "end_time": "2023-11-03T00:19:43.365402814Z",
     "start_time": "2023-11-03T00:19:43.324844123Z"
    }
   },
   "id": "6435a23aaab715ed"
  },
  {
   "cell_type": "code",
   "execution_count": 4,
   "outputs": [
    {
     "data": {
      "text/plain": "<Figure size 640x480 with 1 Axes>",
      "image/png": "[encoded data removed]"
     },
     "metadata": {},
     "output_type": "display_data"
    }
   ],
   "source": [
    "# Create a crosstab to count the occurrences\n",
    "crosstab = pd.crosstab(df['Claim'], df['Building_Painted'])\n",
    "\n",
    "# Create a bar graph\n",
    "crosstab.plot(kind='bar', stacked=False, color=['blue', 'pink'])\n",
    "\n",
    "plt.xlabel('Claim')\n",
    "plt.ylabel('Count')\n",
    "plt.title('Bar Graph of Building_Painted by Claim Status')\n",
    "\n",
    "plt.show()"
   ],
   "metadata": {
    "collapsed": false,
    "ExecuteTime": {
     "end_time": "2023-11-09T13:37:04.878066384Z",
     "start_time": "2023-11-09T13:37:04.421200654Z"
    }
   },
   "id": "6d9c4149aba60009"
  },
  {
   "cell_type": "code",
   "execution_count": 112,
   "outputs": [
    {
     "data": {
      "text/plain": "Building_Fenced\nN    3608\nV    3552\nName: count, dtype: int64"
     },
     "execution_count": 112,
     "metadata": {},
     "output_type": "execute_result"
    }
   ],
   "source": [
    "# Exploring Building_Fenced\n",
    "df[\"Building_Fenced\"].value_counts()"
   ],
   "metadata": {
    "collapsed": false,
    "ExecuteTime": {
     "end_time": "2023-11-03T00:22:46.645828737Z",
     "start_time": "2023-11-03T00:22:46.544001860Z"
    }
   },
   "id": "fb07828bfe31c912"
  },
  {
   "cell_type": "code",
   "execution_count": 5,
   "outputs": [
    {
     "data": {
      "text/plain": "<Figure size 640x480 with 1 Axes>",
      "image/png": "[encoded data removed]"
     },
     "metadata": {},
     "output_type": "display_data"
    }
   ],
   "source": [
    "# Create a crosstab to count the occurrences\n",
    "crosstab = pd.crosstab(df['Claim'], df['Building_Fenced'])\n",
    "\n",
    "# Create a bar graph\n",
    "crosstab.plot(kind='bar', stacked=False, color=['blue', 'green'])\n",
    "\n",
    "plt.xlabel('Claim')\n",
    "plt.ylabel('Count')\n",
    "plt.title('Bar Graph of Building_Fenced by Claim Status')\n",
    "\n",
    "plt.show()"
   ],
   "metadata": {
    "collapsed": false,
    "ExecuteTime": {
     "end_time": "2023-11-09T13:37:22.808506610Z",
     "start_time": "2023-11-09T13:37:22.423875997Z"
    }
   },
   "id": "50092887ccf708cb"
  },
  {
   "cell_type": "markdown",
   "source": [
    "### Distribution of Garden and its relationship with claim"
   ],
   "metadata": {
    "collapsed": false
   },
   "id": "d414c0de5b0bd80e"
  },
  {
   "cell_type": "code",
   "execution_count": 115,
   "outputs": [
    {
     "data": {
      "text/plain": "Garden\nO    3609\nV    3551\nName: count, dtype: int64"
     },
     "execution_count": 115,
     "metadata": {},
     "output_type": "execute_result"
    }
   ],
   "source": [
    "# Exploring Garden\n",
    "df[\"Garden\"].value_counts()"
   ],
   "metadata": {
    "collapsed": false,
    "ExecuteTime": {
     "end_time": "2023-11-03T00:24:33.213697262Z",
     "start_time": "2023-11-03T00:24:33.113501016Z"
    }
   },
   "id": "fefea0258075d401"
  },
  {
   "cell_type": "code",
   "execution_count": 6,
   "outputs": [
    {
     "data": {
      "text/plain": "<Figure size 640x480 with 1 Axes>",
      "image/png": "[encoded data removed]"
     },
     "metadata": {},
     "output_type": "display_data"
    }
   ],
   "source": [
    "# Create a crosstab to count the occurrences\n",
    "crosstab = pd.crosstab(df['Claim'], df['Garden'])\n",
    "\n",
    "# Create a bar graph\n",
    "crosstab.plot(kind='bar', stacked=False, color=['blue', 'green'])\n",
    "\n",
    "plt.xlabel('Claim')\n",
    "plt.ylabel('Count')\n",
    "plt.title('Bar Graph of Garden by Claim Status')\n",
    "\n",
    "plt.show()"
   ],
   "metadata": {
    "collapsed": false,
    "ExecuteTime": {
     "end_time": "2023-11-09T13:37:36.248366001Z",
     "start_time": "2023-11-09T13:37:35.825180250Z"
    }
   },
   "id": "2c4db31f9cab4b43"
  },
  {
   "cell_type": "markdown",
   "source": [
    "### Distribution of Settlement and its relationship with claim"
   ],
   "metadata": {
    "collapsed": false
   },
   "id": "2800ddb0a404c158"
  },
  {
   "cell_type": "code",
   "execution_count": 117,
   "outputs": [
    {
     "data": {
      "text/plain": "Settlement\nR    3610\nU    3550\nName: count, dtype: int64"
     },
     "execution_count": 117,
     "metadata": {},
     "output_type": "execute_result"
    }
   ],
   "source": [
    "# Exploring Settlement\n",
    "df[\"Settlement\"].value_counts()"
   ],
   "metadata": {
    "collapsed": false,
    "ExecuteTime": {
     "end_time": "2023-11-03T00:26:16.936139573Z",
     "start_time": "2023-11-03T00:26:16.872766282Z"
    }
   },
   "id": "db8afa3632aa9907"
  },
  {
   "cell_type": "code",
   "execution_count": 7,
   "outputs": [
    {
     "data": {
      "text/plain": "<Figure size 640x480 with 1 Axes>",
      "image/png": "[encoded data removed]"
     },
     "metadata": {},
     "output_type": "display_data"
    }
   ],
   "source": [
    "# Create a crosstab to count the occurrences\n",
    "crosstab = pd.crosstab(df['Claim'], df['Settlement'])\n",
    "\n",
    "# Create a bar graph\n",
    "crosstab.plot(kind='bar', stacked=False, color=['blue', 'green'])\n",
    "\n",
    "plt.xlabel('Claim')\n",
    "plt.ylabel('Count')\n",
    "plt.title('Bar Graph of Settlement by Claim Status')\n",
    "\n",
    "plt.show()"
   ],
   "metadata": {
    "collapsed": false,
    "ExecuteTime": {
     "end_time": "2023-11-09T13:37:50.982803918Z",
     "start_time": "2023-11-09T13:37:50.521926142Z"
    }
   },
   "id": "59831f5bbc6aac37"
  },
  {
   "cell_type": "markdown",
   "source": [
    "### Distribution of Building_type and its relationship with claim"
   ],
   "metadata": {
    "collapsed": false
   },
   "id": "f75b4ef4e8f3dcbd"
  },
  {
   "cell_type": "code",
   "execution_count": 119,
   "outputs": [
    {
     "data": {
      "text/plain": "Building_Type\n2    3305\n1    1716\n3    1230\n4     909\nName: count, dtype: int64"
     },
     "execution_count": 119,
     "metadata": {},
     "output_type": "execute_result"
    }
   ],
   "source": [
    "# Exploring Building_Type\n",
    "df[\"Building_Type\"].value_counts()"
   ],
   "metadata": {
    "collapsed": false,
    "ExecuteTime": {
     "end_time": "2023-11-03T00:28:01.684933533Z",
     "start_time": "2023-11-03T00:28:01.625228150Z"
    }
   },
   "id": "993d77bb5eba8bcd"
  },
  {
   "cell_type": "code",
   "execution_count": 8,
   "outputs": [
    {
     "data": {
      "text/plain": "<Figure size 640x480 with 1 Axes>",
      "image/png": "[encoded data removed]"
     },
     "metadata": {},
     "output_type": "display_data"
    }
   ],
   "source": [
    "# Create a crosstab to count the occurrences\n",
    "crosstab = pd.crosstab(df['Claim'], df['Building_Type'])\n",
    "\n",
    "\n",
    "# Create a bar graph with percentages\n",
    "ax = crosstab.plot(kind='bar', stacked=False, color=['blue', 'green','red','orange'])\n",
    "\n",
    "plt.xlabel('Claim')\n",
    "plt.ylabel('Count')\n",
    "plt.title('Bar Graph of Building_Type by Claim Status')\n",
    "\n",
    "\n",
    "plt.show()"
   ],
   "metadata": {
    "collapsed": false,
    "ExecuteTime": {
     "end_time": "2023-11-09T13:38:12.054725176Z",
     "start_time": "2023-11-09T13:38:11.497911858Z"
    }
   },
   "id": "749c135f97954728"
  },
  {
   "cell_type": "markdown",
   "source": [
    "### Distribution of Year Of Observation and its relationship with claim"
   ],
   "metadata": {
    "collapsed": false
   },
   "id": "ffebcc33d6d9af5d"
  },
  {
   "cell_type": "code",
   "execution_count": 39,
   "outputs": [
    {
     "data": {
      "text/plain": "YearOfObservation\n2012    1229\n2013    1169\n2014     900\n2015     712\n2016     676\nName: count, dtype: int64"
     },
     "execution_count": 39,
     "metadata": {},
     "output_type": "execute_result"
    }
   ],
   "source": [
    "# Exploring YearOfObservation\n",
    "df[\"YearOfObservation\"].value_counts()"
   ],
   "metadata": {
    "collapsed": false,
    "ExecuteTime": {
     "end_time": "2023-11-03T10:36:05.297406680Z",
     "start_time": "2023-11-03T10:36:05.144049538Z"
    }
   },
   "id": "dce97da355550d07"
  },
  {
   "cell_type": "code",
   "execution_count": 10,
   "outputs": [
    {
     "data": {
      "text/plain": "<Figure size 640x480 with 1 Axes>",
      "image/png": "[encoded data removed]"
     },
     "metadata": {},
     "output_type": "display_data"
    }
   ],
   "source": [
    "# Create a crosstab to count the occurrences\n",
    "crosstab = pd.crosstab(df['Claim'], df['YearOfObservation'])\n",
    "\n",
    "\n",
    "# Create a bar graph with percentages\n",
    "ax = crosstab.plot(kind='bar', stacked=False, color=['blue', 'green','red','orange','yellow'])\n",
    "\n",
    "plt.xlabel('Claim')\n",
    "plt.ylabel('Count')\n",
    "plt.title('Bar Graph of NumberOfWindows by Claim Status')\n",
    "\n",
    "\n",
    "plt.show()"
   ],
   "metadata": {
    "collapsed": false,
    "ExecuteTime": {
     "end_time": "2023-11-09T13:39:21.558565570Z",
     "start_time": "2023-11-09T13:39:21.122095731Z"
    }
   },
   "id": "40a4af6e46d1dd2e"
  },
  {
   "cell_type": "markdown",
   "source": [
    "### Data Encoding "
   ],
   "metadata": {
    "collapsed": false
   },
   "id": "a9485c0586a3346b"
  },
  {
   "cell_type": "code",
   "execution_count": 4,
   "outputs": [
    {
     "name": "stdout",
     "output_type": "stream",
     "text": [
      "      YearOfObservation  Insured_Period  Residential  Building_Painted  \\\n",
      "2                  2014        1.000000            0                 0   \n",
      "3                  2013        1.000000            0                 1   \n",
      "5                  2012        1.000000            0                 1   \n",
      "6                  2012        1.000000            0                 0   \n",
      "10                 2013        0.241096            0                 1   \n",
      "...                 ...             ...          ...               ...   \n",
      "7151               2014        0.030137            0                 1   \n",
      "7153               2013        1.000000            1                 1   \n",
      "7156               2013        1.000000            0                 1   \n",
      "7157               2016        0.038251            0                 1   \n",
      "7158               2013        1.000000            0                 1   \n",
      "\n",
      "      Building_Fenced  Garden  Settlement  Building Dimension  Building_Type  \\\n",
      "2                   1       1           1               595.0              1   \n",
      "3                   1       1           1              2840.0              1   \n",
      "5                   0       0           0               535.0              1   \n",
      "6                   1       1           1              2830.0              1   \n",
      "10                  0       0           0               550.0              1   \n",
      "...               ...     ...         ...                 ...            ...   \n",
      "7151                1       1           1              1083.0              1   \n",
      "7153                1       1           1              1083.0              2   \n",
      "7156                1       1           1              1083.0              2   \n",
      "7157                1       1           1              1083.0              1   \n",
      "7158                1       1           1              1083.0              1   \n",
      "\n",
      "      Date_of_Occupancy  Claim  \n",
      "2                1960.0      0  \n",
      "3                1960.0      0  \n",
      "5                1980.0      0  \n",
      "6                1988.0      0  \n",
      "10               1960.0      0  \n",
      "...                 ...    ...  \n",
      "7151             1970.0      0  \n",
      "7153             1950.0      0  \n",
      "7156             1980.0      1  \n",
      "7157             1992.0      0  \n",
      "7158             1972.0      0  \n",
      "\n",
      "[4686 rows x 11 columns]\n"
     ]
    }
   ],
   "source": [
    "# Create a Label Encoder # Change this to One-Hot Encoder \n",
    "label_encoder = LabelEncoder()\n",
    "\n",
    "# Encode categorical columns\n",
    "categorical_columns = [\"Building_Painted\", \"Building_Fenced\", \"Garden\", \"Settlement\"]\n",
    "for column in categorical_columns:\n",
    "    df[column] = label_encoder.fit_transform(df[column])\n",
    "print(df)"
   ],
   "metadata": {
    "collapsed": false,
    "ExecuteTime": {
     "end_time": "2023-11-16T15:55:59.339058639Z",
     "start_time": "2023-11-16T15:55:59.163050857Z"
    }
   },
   "id": "c596d36736821dcb"
  },
  {
   "cell_type": "code",
   "execution_count": 5,
   "outputs": [
    {
     "data": {
      "text/plain": "    YearOfObservation  Insured_Period  Residential  Building_Painted  \\\n2                2014        1.000000            0                 0   \n3                2013        1.000000            0                 1   \n5                2012        1.000000            0                 1   \n6                2012        1.000000            0                 0   \n10               2013        0.241096            0                 1   \n\n    Building_Fenced  Garden  Settlement  Building Dimension  Building_Type  \\\n2                 1       1           1               595.0              1   \n3                 1       1           1              2840.0              1   \n5                 0       0           0               535.0              1   \n6                 1       1           1              2830.0              1   \n10                0       0           0               550.0              1   \n\n    Date_of_Occupancy  Claim  \n2              1960.0      0  \n3              1960.0      0  \n5              1980.0      0  \n6              1988.0      0  \n10             1960.0      0  ",
      "text/html": "<div>\n<style scoped>\n    .dataframe tbody tr th:only-of-type {\n        vertical-align: middle;\n    }\n\n    .dataframe tbody tr th {\n        vertical-align: top;\n    }\n\n    .dataframe thead th {\n        text-align: right;\n    }\n</style>\n<table border=\"1\" class=\"dataframe\">\n  <thead>\n    <tr style=\"text-align: right;\">\n      <th></th>\n      <th>YearOfObservation</th>\n      <th>Insured_Period</th>\n      <th>Residential</th>\n      <th>Building_Painted</th>\n      <th>Building_Fenced</th>\n      <th>Garden</th>\n      <th>Settlement</th>\n      <th>Building Dimension</th>\n      <th>Building_Type</th>\n      <th>Date_of_Occupancy</th>\n      <th>Claim</th>\n    </tr>\n  </thead>\n  <tbody>\n    <tr>\n      <th>2</th>\n      <td>2014</td>\n      <td>1.000000</td>\n      <td>0</td>\n      <td>0</td>\n      <td>1</td>\n      <td>1</td>\n      <td>1</td>\n      <td>595.0</td>\n      <td>1</td>\n      <td>1960.0</td>\n      <td>0</td>\n    </tr>\n    <tr>\n      <th>3</th>\n      <td>2013</td>\n      <td>1.000000</td>\n      <td>0</td>\n      <td>1</td>\n      <td>1</td>\n      <td>1</td>\n      <td>1</td>\n      <td>2840.0</td>\n      <td>1</td>\n      <td>1960.0</td>\n      <td>0</td>\n    </tr>\n    <tr>\n      <th>5</th>\n      <td>2012</td>\n      <td>1.000000</td>\n      <td>0</td>\n      <td>1</td>\n      <td>0</td>\n      <td>0</td>\n      <td>0</td>\n      <td>535.0</td>\n      <td>1</td>\n      <td>1980.0</td>\n      <td>0</td>\n    </tr>\n    <tr>\n      <th>6</th>\n      <td>2012</td>\n      <td>1.000000</td>\n      <td>0</td>\n      <td>0</td>\n      <td>1</td>\n      <td>1</td>\n      <td>1</td>\n      <td>2830.0</td>\n      <td>1</td>\n      <td>1988.0</td>\n      <td>0</td>\n    </tr>\n    <tr>\n      <th>10</th>\n      <td>2013</td>\n      <td>0.241096</td>\n      <td>0</td>\n      <td>1</td>\n      <td>0</td>\n      <td>0</td>\n      <td>0</td>\n      <td>550.0</td>\n      <td>1</td>\n      <td>1960.0</td>\n      <td>0</td>\n    </tr>\n  </tbody>\n</table>\n</div>"
     },
     "execution_count": 5,
     "metadata": {},
     "output_type": "execute_result"
    }
   ],
   "source": [
    "# Display the resulting DataFrame with categorical variables encoded as numeric values\n",
    "df.head()"
   ],
   "metadata": {
    "collapsed": false,
    "ExecuteTime": {
     "end_time": "2023-11-16T15:56:02.075389327Z",
     "start_time": "2023-11-16T15:56:01.710991612Z"
    }
   },
   "id": "164e262f488a09b2"
  },
  {
   "cell_type": "markdown",
   "source": [
    "###  Feature Selection:"
   ],
   "metadata": {
    "collapsed": false
   },
   "id": "782c4b2dc97fcb29"
  },
  {
   "cell_type": "code",
   "execution_count": 6,
   "outputs": [],
   "source": [
    "# Consider \"Building Dimension,\" \"Date_of_Occupancy,\" and \"Insured_Period\" as continuous features\n",
    "continuous_features = [\"Building Dimension\", \"Date_of_Occupancy\", \"Insured_Period\"]\n",
    "categorical_features = [col for col in df.columns if col not in [\"Customer Id\", \"Claim\"] + continuous_features]\n"
   ],
   "metadata": {
    "collapsed": false,
    "ExecuteTime": {
     "end_time": "2023-11-16T15:56:04.838455152Z",
     "start_time": "2023-11-16T15:56:04.681329235Z"
    }
   },
   "id": "bca3c6ce5ec16c9"
  },
  {
   "cell_type": "code",
   "execution_count": 7,
   "outputs": [],
   "source": [
    "# Separate features and target variable\n",
    "X_continuous = df[continuous_features]\n",
    "X_categorical = df[categorical_features]\n",
    "y = df[\"Claim\"]\n"
   ],
   "metadata": {
    "collapsed": false,
    "ExecuteTime": {
     "end_time": "2023-11-16T15:56:06.131707666Z",
     "start_time": "2023-11-16T15:56:05.974431766Z"
    }
   },
   "id": "d246a3a12c197b48"
  },
  {
   "cell_type": "code",
   "execution_count": 8,
   "outputs": [],
   "source": [
    "# Feature selection for continuous features using SelectKBest with F-statistic\n",
    "k_best_continuous = SelectKBest(score_func=f_classif, k=2)  # Select top 2 continuous features\n",
    "X_new_continuous = k_best_continuous.fit_transform(X_continuous, y)\n"
   ],
   "metadata": {
    "collapsed": false,
    "ExecuteTime": {
     "end_time": "2023-11-16T15:56:07.511193259Z",
     "start_time": "2023-11-16T15:56:07.367100263Z"
    }
   },
   "id": "32c785987e58c03e"
  },
  {
   "cell_type": "code",
   "execution_count": 9,
   "outputs": [],
   "source": [
    "# Get the F-statistic values for selected continuous features\n",
    "f_values_continuous = k_best_continuous.scores_\n"
   ],
   "metadata": {
    "collapsed": false,
    "ExecuteTime": {
     "end_time": "2023-11-16T15:56:09.173716079Z",
     "start_time": "2023-11-16T15:56:09.035542599Z"
    }
   },
   "id": "ab45997e3f5f477c"
  },
  {
   "cell_type": "code",
   "execution_count": 10,
   "outputs": [],
   "source": [
    "# Feature selection for categorical features using SelectKBest with chi-squared\n",
    "k_best_categorical = SelectKBest(score_func=chi2, k=5)  # Select top 5 categorical features\n",
    "X_new_categorical = k_best_categorical.fit_transform(X_categorical, y)\n"
   ],
   "metadata": {
    "collapsed": false,
    "ExecuteTime": {
     "end_time": "2023-11-16T15:56:10.561046459Z",
     "start_time": "2023-11-16T15:56:10.255608752Z"
    }
   },
   "id": "ce16b2adf996d8cb"
  },
  {
   "cell_type": "code",
   "execution_count": 11,
   "outputs": [],
   "source": [
    "# Get the chi-squared values for selected categorical features\n",
    "chi2_values_categorical = k_best_categorical.scores_"
   ],
   "metadata": {
    "collapsed": false,
    "ExecuteTime": {
     "end_time": "2023-11-16T15:56:11.884189742Z",
     "start_time": "2023-11-16T15:56:11.747964252Z"
    }
   },
   "id": "69e3a8758d424d96"
  },
  {
   "cell_type": "code",
   "execution_count": 17,
   "outputs": [
    {
     "name": "stdout",
     "output_type": "stream",
     "text": [
      "Selected Continuous Features:\n",
      "Index(['Building Dimension', 'Insured_Period'], dtype='object')\n",
      "F-Statistic Values for Continuous Features:\n",
      "[234.22576092   0.83600886  30.5367085 ]\n"
     ]
    }
   ],
   "source": [
    "# Display the selected continuous features and their F-statistic values\n",
    "selected_continuous_features = X_continuous.columns[k_best_continuous.get_support()]\n",
    "print(\"Selected Continuous Features:\")\n",
    "print(selected_continuous_features)\n",
    "print(\"F-Statistic Values for Continuous Features:\")\n",
    "print(f_values_continuous)"
   ],
   "metadata": {
    "collapsed": false,
    "ExecuteTime": {
     "end_time": "2023-11-16T12:58:33.580542322Z",
     "start_time": "2023-11-16T12:58:33.488469330Z"
    }
   },
   "id": "8c8822ef76deb70a"
  },
  {
   "cell_type": "code",
   "execution_count": 18,
   "outputs": [
    {
     "name": "stdout",
     "output_type": "stream",
     "text": [
      "\n",
      "Selected Categorical Features:\n",
      "Index(['Residential', 'Building_Fenced', 'Garden', 'Settlement',\n",
      "       'Building_Type'],\n",
      "      dtype='object')\n",
      "Chi-Squared Values for Categorical Features:\n",
      "[6.47077691e-04 1.18442726e+01 1.85508013e-01 1.59284976e+00\n",
      " 1.68675481e+00 1.66236534e+00 2.56140549e+01]\n"
     ]
    }
   ],
   "source": [
    "# Display the selected categorical features and their chi-squared values\n",
    "selected_categorical_features = X_categorical.columns[k_best_categorical.get_support()]\n",
    "print(\"\\nSelected Categorical Features:\")\n",
    "print(selected_categorical_features)\n",
    "print(\"Chi-Squared Values for Categorical Features:\")\n",
    "print(chi2_values_categorical)"
   ],
   "metadata": {
    "collapsed": false,
    "ExecuteTime": {
     "end_time": "2023-11-16T12:58:34.417846074Z",
     "start_time": "2023-11-16T12:58:34.320288577Z"
    }
   },
   "id": "1fbb69d8b3053fac"
  },
  {
   "cell_type": "code",
   "execution_count": 19,
   "outputs": [],
   "source": [
    "# Get the indices of the selected features\n",
    "selected_continuous_indices = k_best_continuous.get_support(indices=True)\n",
    "selected_categorical_indices = k_best_categorical.get_support(indices=True)\n"
   ],
   "metadata": {
    "collapsed": false,
    "ExecuteTime": {
     "end_time": "2023-11-16T12:58:35.281073992Z",
     "start_time": "2023-11-16T12:58:35.144595769Z"
    }
   },
   "id": "2fb824b5bd09d229"
  },
  {
   "cell_type": "code",
   "execution_count": 20,
   "outputs": [],
   "source": [
    "# Create a new DataFrame with the selected features\n",
    "selected_features = pd.concat([\n",
    "    pd.DataFrame(X_new_continuous, columns=X_continuous.columns[selected_continuous_indices]),\n",
    "    pd.DataFrame(X_new_categorical, columns=X_categorical.columns[selected_categorical_indices])\n",
    "], axis=1)\n"
   ],
   "metadata": {
    "collapsed": false,
    "ExecuteTime": {
     "end_time": "2023-11-16T12:58:36.186936112Z",
     "start_time": "2023-11-16T12:58:36.082681225Z"
    }
   },
   "id": "f86abd79a6c83ada"
  },
  {
   "cell_type": "code",
   "execution_count": 21,
   "outputs": [
    {
     "name": "stdout",
     "output_type": "stream",
     "text": [
      "Selected Features:\n",
      "      Building Dimension  Insured_Period  Residential  Building_Fenced  \\\n",
      "0                  595.0        1.000000            0                1   \n",
      "1                 2840.0        1.000000            0                1   \n",
      "2                  535.0        1.000000            0                0   \n",
      "3                 2830.0        1.000000            0                1   \n",
      "4                  550.0        0.241096            0                0   \n",
      "...                  ...             ...          ...              ...   \n",
      "4681              1083.0        0.030137            0                1   \n",
      "4682              1083.0        1.000000            1                1   \n",
      "4683              1083.0        1.000000            0                1   \n",
      "4684              1083.0        0.038251            0                1   \n",
      "4685              1083.0        1.000000            0                1   \n",
      "\n",
      "      Garden  Settlement  Building_Type  \n",
      "0          1           1              1  \n",
      "1          1           1              1  \n",
      "2          0           0              1  \n",
      "3          1           1              1  \n",
      "4          0           0              1  \n",
      "...      ...         ...            ...  \n",
      "4681       1           1              1  \n",
      "4682       1           1              2  \n",
      "4683       1           1              2  \n",
      "4684       1           1              1  \n",
      "4685       1           1              1  \n",
      "\n",
      "[4686 rows x 7 columns]\n"
     ]
    }
   ],
   "source": [
    "# Display the selected features\n",
    "print(\"Selected Features:\")\n",
    "print(selected_features)"
   ],
   "metadata": {
    "collapsed": false,
    "ExecuteTime": {
     "end_time": "2023-11-16T12:58:36.920198364Z",
     "start_time": "2023-11-16T12:58:36.840341101Z"
    }
   },
   "id": "252567f3b19bbd2f"
  },
  {
   "cell_type": "code",
   "execution_count": 22,
   "outputs": [
    {
     "data": {
      "text/plain": "   Building Dimension  Insured_Period  Residential  Building_Fenced  Garden  \\\n0               595.0        1.000000            0                1       1   \n1              2840.0        1.000000            0                1       1   \n2               535.0        1.000000            0                0       0   \n3              2830.0        1.000000            0                1       1   \n4               550.0        0.241096            0                0       0   \n\n   Settlement  Building_Type  \n0           1              1  \n1           1              1  \n2           0              1  \n3           1              1  \n4           0              1  ",
      "text/html": "<div>\n<style scoped>\n    .dataframe tbody tr th:only-of-type {\n        vertical-align: middle;\n    }\n\n    .dataframe tbody tr th {\n        vertical-align: top;\n    }\n\n    .dataframe thead th {\n        text-align: right;\n    }\n</style>\n<table border=\"1\" class=\"dataframe\">\n  <thead>\n    <tr style=\"text-align: right;\">\n      <th></th>\n      <th>Building Dimension</th>\n      <th>Insured_Period</th>\n      <th>Residential</th>\n      <th>Building_Fenced</th>\n      <th>Garden</th>\n      <th>Settlement</th>\n      <th>Building_Type</th>\n    </tr>\n  </thead>\n  <tbody>\n    <tr>\n      <th>0</th>\n      <td>595.0</td>\n      <td>1.000000</td>\n      <td>0</td>\n      <td>1</td>\n      <td>1</td>\n      <td>1</td>\n      <td>1</td>\n    </tr>\n    <tr>\n      <th>1</th>\n      <td>2840.0</td>\n      <td>1.000000</td>\n      <td>0</td>\n      <td>1</td>\n      <td>1</td>\n      <td>1</td>\n      <td>1</td>\n    </tr>\n    <tr>\n      <th>2</th>\n      <td>535.0</td>\n      <td>1.000000</td>\n      <td>0</td>\n      <td>0</td>\n      <td>0</td>\n      <td>0</td>\n      <td>1</td>\n    </tr>\n    <tr>\n      <th>3</th>\n      <td>2830.0</td>\n      <td>1.000000</td>\n      <td>0</td>\n      <td>1</td>\n      <td>1</td>\n      <td>1</td>\n      <td>1</td>\n    </tr>\n    <tr>\n      <th>4</th>\n      <td>550.0</td>\n      <td>0.241096</td>\n      <td>0</td>\n      <td>0</td>\n      <td>0</td>\n      <td>0</td>\n      <td>1</td>\n    </tr>\n  </tbody>\n</table>\n</div>"
     },
     "execution_count": 22,
     "metadata": {},
     "output_type": "execute_result"
    }
   ],
   "source": [
    "selected_features.head()"
   ],
   "metadata": {
    "collapsed": false,
    "ExecuteTime": {
     "end_time": "2023-11-16T12:58:41.379790697Z",
     "start_time": "2023-11-16T12:58:41.118642302Z"
    }
   },
   "id": "c3bb66c063d1e558"
  },
  {
   "cell_type": "code",
   "execution_count": 22,
   "outputs": [],
   "source": [],
   "metadata": {
    "collapsed": false,
    "ExecuteTime": {
     "end_time": "2023-11-16T12:58:43.011467885Z",
     "start_time": "2023-11-16T12:58:42.882458507Z"
    }
   },
   "id": "ecb5257ee661a375"
  },
  {
   "cell_type": "markdown",
   "source": [
    "### Model Building:"
   ],
   "metadata": {
    "collapsed": false
   },
   "id": "cdb8ab223139533a"
  },
  {
   "cell_type": "code",
   "execution_count": 15,
   "outputs": [],
   "source": [
    "# Creating the feature matrix X and the target variable y\n",
    "features = [\"Building Dimension\",\"Insured_Period\",\"Residential\",\"Building_Fenced\",\"Garden\",\"Settlement\",\"Building_Type\"]\n",
    "X = df[features]\n",
    "target = \"Claim\"\n",
    "y = df[target]\n"
   ],
   "metadata": {
    "collapsed": false,
    "ExecuteTime": {
     "end_time": "2023-11-16T16:11:35.791835992Z",
     "start_time": "2023-11-16T16:11:35.608053918Z"
    }
   },
   "id": "3d80e16dd297d37"
  },
  {
   "cell_type": "code",
   "execution_count": 16,
   "outputs": [],
   "source": [
    "# Splitting the data into training and evaluation sets\n",
    "X_train, X_eval, y_train, y_eval = train_test_split(X, y, test_size=0.2, random_state=42)\n",
    "\n"
   ],
   "metadata": {
    "collapsed": false,
    "ExecuteTime": {
     "end_time": "2023-11-16T16:11:36.890573487Z",
     "start_time": "2023-11-16T16:11:36.698257677Z"
    }
   },
   "id": "3270e635aa8b00e8"
  },
  {
   "cell_type": "code",
   "execution_count": 16,
   "outputs": [],
   "source": [],
   "metadata": {
    "collapsed": false,
    "ExecuteTime": {
     "end_time": "2023-11-16T16:11:38.018957926Z",
     "start_time": "2023-11-16T16:11:37.889434142Z"
    }
   },
   "id": "2bd16baf26284319"
  },
  {
   "cell_type": "code",
   "execution_count": 17,
   "outputs": [],
   "source": [
    "#Scaling the features using pipeline\n",
    "pipeline = Pipeline([\n",
    "            ('std_scaler',StandardScaler()),\n",
    "                    ])\n",
    "scaled_X_train = pipeline.fit_transform(X_train)\n",
    "scaled_X_eval = pipeline.transform(X_eval)"
   ],
   "metadata": {
    "collapsed": false,
    "ExecuteTime": {
     "end_time": "2023-11-16T16:11:39.083378291Z",
     "start_time": "2023-11-16T16:11:38.929951728Z"
    }
   },
   "id": "f0a672c4cb4b7e1f"
  },
  {
   "cell_type": "code",
   "execution_count": 17,
   "outputs": [],
   "source": [],
   "metadata": {
    "collapsed": false,
    "ExecuteTime": {
     "end_time": "2023-11-16T16:11:40.409992073Z",
     "start_time": "2023-11-16T16:11:40.249333597Z"
    }
   },
   "id": "2e8a3122c8be14d0"
  },
  {
   "cell_type": "code",
   "execution_count": 17,
   "outputs": [],
   "source": [],
   "metadata": {
    "collapsed": false,
    "ExecuteTime": {
     "end_time": "2023-11-16T16:11:41.206432710Z",
     "start_time": "2023-11-16T16:11:41.058720632Z"
    }
   },
   "id": "1aee366357e54d63"
  },
  {
   "cell_type": "markdown",
   "source": [
    "### SVM model "
   ],
   "metadata": {
    "collapsed": false
   },
   "id": "ab209bb7b8d8be93"
  },
  {
   "cell_type": "markdown",
   "source": [
    "#### Support Vector Classifier(with default parameters)¶\n"
   ],
   "metadata": {
    "collapsed": false
   },
   "id": "1008d52d687a52a3"
  },
  {
   "cell_type": "markdown",
   "source": [
    "A support-vector machine constructs a hyperplane or set of hyperplanes in a high- or infinite-dimensional space, which can be used for classification, regression, or other tasks like outliers detection. Intuitively, a good separation is achieved by the hyperplane that has the largest distance to the nearest training-data point of any class (so-called functional margin), since in general the larger the margin, the lower the generalization error of the classifier.\n",
    "\n"
   ],
   "metadata": {
    "collapsed": false
   },
   "id": "6ef08e39ebed9d02"
  },
  {
   "cell_type": "code",
   "execution_count": 18,
   "outputs": [
    {
     "data": {
      "text/plain": "SVC()",
      "text/html": "<style>#sk-container-id-1 {color: black;}#sk-container-id-1 pre{padding: 0;}#sk-container-id-1 div.sk-toggleable {background-color: white;}#sk-container-id-1 label.sk-toggleable__label {cursor: pointer;display: block;width: 100%;margin-bottom: 0;padding: 0.3em;box-sizing: border-box;text-align: center;}#sk-container-id-1 label.sk-toggleable__label-arrow:before {content: \"▸\";float: left;margin-right: 0.25em;color: #696969;}#sk-container-id-1 label.sk-toggleable__label-arrow:hover:before {color: black;}#sk-container-id-1 div.sk-estimator:hover label.sk-toggleable__label-arrow:before {color: black;}#sk-container-id-1 div.sk-toggleable__content {max-height: 0;max-width: 0;overflow: hidden;text-align: left;background-color: #f0f8ff;}#sk-container-id-1 div.sk-toggleable__content pre {margin: 0.2em;color: black;border-radius: 0.25em;background-color: #f0f8ff;}#sk-container-id-1 input.sk-toggleable__control:checked~div.sk-toggleable__content {max-height: 200px;max-width: 100%;overflow: auto;}#sk-container-id-1 input.sk-toggleable__control:checked~label.sk-toggleable__label-arrow:before {content: \"▾\";}#sk-container-id-1 div.sk-estimator input.sk-toggleable__control:checked~label.sk-toggleable__label {background-color: #d4ebff;}#sk-container-id-1 div.sk-label input.sk-toggleable__control:checked~label.sk-toggleable__label {background-color: #d4ebff;}#sk-container-id-1 input.sk-hidden--visually {border: 0;clip: rect(1px 1px 1px 1px);clip: rect(1px, 1px, 1px, 1px);height: 1px;margin: -1px;overflow: hidden;padding: 0;position: absolute;width: 1px;}#sk-container-id-1 div.sk-estimator {font-family: monospace;background-color: #f0f8ff;border: 1px dotted black;border-radius: 0.25em;box-sizing: border-box;margin-bottom: 0.5em;}#sk-container-id-1 div.sk-estimator:hover {background-color: #d4ebff;}#sk-container-id-1 div.sk-parallel-item::after {content: \"\";width: 100%;border-bottom: 1px solid gray;flex-grow: 1;}#sk-container-id-1 div.sk-label:hover label.sk-toggleable__label {background-color: #d4ebff;}#sk-container-id-1 div.sk-serial::before {content: \"\";position: absolute;border-left: 1px solid gray;box-sizing: border-box;top: 0;bottom: 0;left: 50%;z-index: 0;}#sk-container-id-1 div.sk-serial {display: flex;flex-direction: column;align-items: center;background-color: white;padding-right: 0.2em;padding-left: 0.2em;position: relative;}#sk-container-id-1 div.sk-item {position: relative;z-index: 1;}#sk-container-id-1 div.sk-parallel {display: flex;align-items: stretch;justify-content: center;background-color: white;position: relative;}#sk-container-id-1 div.sk-item::before, #sk-container-id-1 div.sk-parallel-item::before {content: \"\";position: absolute;border-left: 1px solid gray;box-sizing: border-box;top: 0;bottom: 0;left: 50%;z-index: -1;}#sk-container-id-1 div.sk-parallel-item {display: flex;flex-direction: column;z-index: 1;position: relative;background-color: white;}#sk-container-id-1 div.sk-parallel-item:first-child::after {align-self: flex-end;width: 50%;}#sk-container-id-1 div.sk-parallel-item:last-child::after {align-self: flex-start;width: 50%;}#sk-container-id-1 div.sk-parallel-item:only-child::after {width: 0;}#sk-container-id-1 div.sk-dashed-wrapped {border: 1px dashed gray;margin: 0 0.4em 0.5em 0.4em;box-sizing: border-box;padding-bottom: 0.4em;background-color: white;}#sk-container-id-1 div.sk-label label {font-family: monospace;font-weight: bold;display: inline-block;line-height: 1.2em;}#sk-container-id-1 div.sk-label-container {text-align: center;}#sk-container-id-1 div.sk-container {/* jupyter's `normalize.less` sets `[hidden] { display: none; }` but bootstrap.min.css set `[hidden] { display: none !important; }` so we also need the `!important` here to be able to override the default hidden behavior on the sphinx rendered scikit-learn.org. See: https://github.com/scikit-learn/scikit-learn/issues/21755 */display: inline-block !important;position: relative;}#sk-container-id-1 div.sk-text-repr-fallback {display: none;}</style><div id=\"sk-container-id-1\" class=\"sk-top-container\"><div class=\"sk-text-repr-fallback\"><pre>SVC()</pre><b>In a Jupyter environment, please rerun this cell to show the HTML representation or trust the notebook. <br />On GitHub, the HTML representation is unable to render, please try loading this page with nbviewer.org.</b></div><div class=\"sk-container\" hidden><div class=\"sk-item\"><div class=\"sk-estimator sk-toggleable\"><input class=\"sk-toggleable__control sk-hidden--visually\" id=\"sk-estimator-id-1\" type=\"checkbox\" checked><label for=\"sk-estimator-id-1\" class=\"sk-toggleable__label sk-toggleable__label-arrow\">SVC</label><div class=\"sk-toggleable__content\"><pre>SVC()</pre></div></div></div></div></div>"
     },
     "execution_count": 18,
     "metadata": {},
     "output_type": "execute_result"
    }
   ],
   "source": [
    "#Fitting the model on SVC with default parameters\n",
    "model_svc = SVC()\n",
    "model_svc.fit(scaled_X_train, y_train)"
   ],
   "metadata": {
    "collapsed": false,
    "ExecuteTime": {
     "end_time": "2023-11-16T16:11:44.426144173Z",
     "start_time": "2023-11-16T16:11:43.405199497Z"
    }
   },
   "id": "c07fa2fdebf9bd82"
  },
  {
   "cell_type": "code",
   "execution_count": 19,
   "outputs": [
    {
     "data": {
      "text/plain": "{'C': 1.0,\n 'break_ties': False,\n 'cache_size': 200,\n 'class_weight': None,\n 'coef0': 0.0,\n 'decision_function_shape': 'ovr',\n 'degree': 3,\n 'gamma': 'scale',\n 'kernel': 'rbf',\n 'max_iter': -1,\n 'probability': False,\n 'random_state': None,\n 'shrinking': True,\n 'tol': 0.001,\n 'verbose': False}"
     },
     "execution_count": 19,
     "metadata": {},
     "output_type": "execute_result"
    }
   ],
   "source": [
    "#Checking the default parameters in an SVC\n",
    "model_svc.get_params()"
   ],
   "metadata": {
    "collapsed": false,
    "ExecuteTime": {
     "end_time": "2023-11-16T16:11:47.089197099Z",
     "start_time": "2023-11-16T16:11:46.966664138Z"
    }
   },
   "id": "597f9127ed3d8b47"
  },
  {
   "cell_type": "code",
   "execution_count": 20,
   "outputs": [
    {
     "data": {
      "text/plain": "0.8059701492537313"
     },
     "execution_count": 20,
     "metadata": {},
     "output_type": "execute_result"
    }
   ],
   "source": [
    "#Calculating predictions, and accuracy score\n",
    "pred_svc = model_svc.predict(scaled_X_eval)\n",
    "svm = accuracy_score(y_eval,pred_svc)\n",
    "svm"
   ],
   "metadata": {
    "collapsed": false,
    "ExecuteTime": {
     "end_time": "2023-11-16T16:11:48.395655912Z",
     "start_time": "2023-11-16T16:11:48.209271051Z"
    }
   },
   "id": "2bf744fefa28a848"
  },
  {
   "cell_type": "code",
   "execution_count": 21,
   "outputs": [
    {
     "name": "stdout",
     "output_type": "stream",
     "text": [
      "              precision    recall  f1-score   support\n",
      "\n",
      "           0       0.81      1.00      0.89       754\n",
      "           1       0.75      0.02      0.03       184\n",
      "\n",
      "    accuracy                           0.81       938\n",
      "   macro avg       0.78      0.51      0.46       938\n",
      "weighted avg       0.80      0.81      0.72       938\n"
     ]
    }
   ],
   "source": [
    "#Building classification report\n",
    "print(classification_report(y_eval,pred_svc))"
   ],
   "metadata": {
    "collapsed": false,
    "ExecuteTime": {
     "end_time": "2023-11-16T16:11:49.967507751Z",
     "start_time": "2023-11-16T16:11:49.790159740Z"
    }
   },
   "id": "2c7575fc0fc3f2e0"
  },
  {
   "cell_type": "code",
   "execution_count": 22,
   "outputs": [
    {
     "name": "stdout",
     "output_type": "stream",
     "text": [
      "Confusion matrix\n",
      "\n",
      " [[753   1]\n",
      " [181   3]]\n",
      "\n",
      "True Positives(TP) =  753\n",
      "\n",
      "True Negatives(TN) =  3\n",
      "\n",
      "False Positives(FP) =  1\n",
      "\n",
      "False Negatives(FN) =  181\n"
     ]
    }
   ],
   "source": [
    "# Print the Confusion Matrix and slice it into four pieces\n",
    "\n",
    "from sklearn.metrics import confusion_matrix\n",
    "\n",
    "cm = confusion_matrix(y_eval, pred_svc)\n",
    "\n",
    "print('Confusion matrix\\n\\n', cm)\n",
    "\n",
    "print('\\nTrue Positives(TP) = ', cm[0,0])\n",
    "\n",
    "print('\\nTrue Negatives(TN) = ', cm[1,1])\n",
    "\n",
    "print('\\nFalse Positives(FP) = ', cm[0,1])\n",
    "\n",
    "print('\\nFalse Negatives(FN) = ', cm[1,0])"
   ],
   "metadata": {
    "collapsed": false,
    "ExecuteTime": {
     "end_time": "2023-11-16T16:11:51.473686606Z",
     "start_time": "2023-11-16T16:11:51.374752632Z"
    }
   },
   "id": "8720dfccfe92293b"
  },
  {
   "cell_type": "code",
   "execution_count": 22,
   "outputs": [],
   "source": [],
   "metadata": {
    "collapsed": false,
    "ExecuteTime": {
     "end_time": "2023-11-16T16:11:52.513768532Z",
     "start_time": "2023-11-16T16:11:52.401461493Z"
    }
   },
   "id": "3ab9fc0892cb6e11"
  },
  {
   "cell_type": "code",
   "execution_count": 24,
   "outputs": [
    {
     "name": "stdout",
     "output_type": "stream",
     "text": [
      "ROC AUC : 0.5075\n"
     ]
    }
   ],
   "source": [
    "# compute ROC AUC\n",
    "\n",
    "from sklearn.metrics import roc_auc_score\n",
    "\n",
    "ROC_AUC = roc_auc_score(y_eval, pred_svc)\n",
    "\n",
    "print('ROC AUC : {:.4f}'.format(ROC_AUC))"
   ],
   "metadata": {
    "collapsed": false,
    "ExecuteTime": {
     "end_time": "2023-11-16T16:11:55.176421005Z",
     "start_time": "2023-11-16T16:11:55.049734720Z"
    }
   },
   "id": "7dddc2ce9eb96a90"
  },
  {
   "cell_type": "markdown",
   "source": [
    "We get an accuracy of 80.6% without tuning the hyperparameters. So let's try tuning the hyperparameters and check if it improves our accuracy"
   ],
   "metadata": {
    "collapsed": false
   },
   "id": "34bd329e5ff4b62c"
  },
  {
   "cell_type": "markdown",
   "source": [
    "### Hyperparameter Tuning with GridSearchCV\n",
    "\n",
    "When training an SVM with the Radial Basis Function (RBF) kernel, two parameters must be considered: C and gamma. The parameter C, common to all SVM kernels, trades off misclassification of training examples against simplicity of the decision surface. A low C makes the decision surface smooth, while a high C aims at classifying all training examples correctly. gamma defines how much influence a single training example has. The larger gamma is, the closer other examples must be to be affected."
   ],
   "metadata": {
    "collapsed": false
   },
   "id": "c8a3492307ef8762"
  },
  {
   "cell_type": "code",
   "execution_count": 26,
   "outputs": [],
   "source": [
    "# Create a dictionary called param_grid and fill out some parameters for kernels, C and gamma\n",
    "param_grid = {'C': [0.1,1, 10, 100], 'gamma': [1,0.1,0.01,0.001],'kernel': ['rbf', 'poly', 'sigmoid']}\n"
   ],
   "metadata": {
    "collapsed": false,
    "ExecuteTime": {
     "end_time": "2023-11-14T11:10:58.455627832Z",
     "start_time": "2023-11-14T11:10:58.201169600Z"
    }
   },
   "id": "15c329a3c093c186"
  },
  {
   "cell_type": "code",
   "execution_count": null,
   "outputs": [
    {
     "name": "stdout",
     "output_type": "stream",
     "text": [
      "Fitting 5 folds for each of 48 candidates, totalling 240 fits\n",
      "[CV] END .........................C=0.1, gamma=1, kernel=rbf; total time=   0.8s\n",
      "[CV] END .........................C=0.1, gamma=1, kernel=rbf; total time=   1.0s\n",
      "[CV] END .........................C=0.1, gamma=1, kernel=rbf; total time=   0.9s\n",
      "[CV] END .........................C=0.1, gamma=1, kernel=rbf; total time=   0.9s\n",
      "[CV] END .........................C=0.1, gamma=1, kernel=rbf; total time=   0.8s\n"
     ]
    }
   ],
   "source": [
    "# Create a GridSearchCV object and fit it to the training data\n",
    "grid = GridSearchCV(SVC(),param_grid,refit=True,verbose=2)\n",
    "grid.fit(X_train,y_train)"
   ],
   "metadata": {
    "collapsed": false,
    "is_executing": true,
    "ExecuteTime": {
     "start_time": "2023-11-14T11:11:32.475600991Z"
    }
   },
   "id": "deb616de17e042cb"
  },
  {
   "cell_type": "code",
   "execution_count": null,
   "outputs": [],
   "source": [
    "# Find the optimal parameters\n",
    "print(grid.best_estimator_)"
   ],
   "metadata": {
    "collapsed": false
   },
   "id": "a4ef46eace1c27d0"
  },
  {
   "cell_type": "code",
   "execution_count": null,
   "outputs": [],
   "source": [],
   "metadata": {
    "collapsed": false
   },
   "id": "9b732ed5f8713acf"
  },
  {
   "cell_type": "code",
   "execution_count": null,
   "outputs": [],
   "source": [],
   "metadata": {
    "collapsed": false
   },
   "id": "e45b0a72a6e0417c"
  },
  {
   "cell_type": "markdown",
   "source": [
    "### LInear Regression"
   ],
   "metadata": {
    "collapsed": false
   },
   "id": "e24085e1de978896"
  },
  {
   "cell_type": "code",
   "execution_count": 25,
   "outputs": [],
   "source": [
    "#Create a linear regression model\n",
    "model = LinearRegression()"
   ],
   "metadata": {
    "collapsed": false,
    "ExecuteTime": {
     "end_time": "2023-11-16T16:12:03.208132572Z",
     "start_time": "2023-11-16T16:12:03.022639132Z"
    }
   },
   "id": "ecbc948e0a5ad6cd"
  },
  {
   "cell_type": "code",
   "execution_count": 26,
   "outputs": [
    {
     "data": {
      "text/plain": "LinearRegression()",
      "text/html": "<style>#sk-container-id-2 {color: black;}#sk-container-id-2 pre{padding: 0;}#sk-container-id-2 div.sk-toggleable {background-color: white;}#sk-container-id-2 label.sk-toggleable__label {cursor: pointer;display: block;width: 100%;margin-bottom: 0;padding: 0.3em;box-sizing: border-box;text-align: center;}#sk-container-id-2 label.sk-toggleable__label-arrow:before {content: \"▸\";float: left;margin-right: 0.25em;color: #696969;}#sk-container-id-2 label.sk-toggleable__label-arrow:hover:before {color: black;}#sk-container-id-2 div.sk-estimator:hover label.sk-toggleable__label-arrow:before {color: black;}#sk-container-id-2 div.sk-toggleable__content {max-height: 0;max-width: 0;overflow: hidden;text-align: left;background-color: #f0f8ff;}#sk-container-id-2 div.sk-toggleable__content pre {margin: 0.2em;color: black;border-radius: 0.25em;background-color: #f0f8ff;}#sk-container-id-2 input.sk-toggleable__control:checked~div.sk-toggleable__content {max-height: 200px;max-width: 100%;overflow: auto;}#sk-container-id-2 input.sk-toggleable__control:checked~label.sk-toggleable__label-arrow:before {content: \"▾\";}#sk-container-id-2 div.sk-estimator input.sk-toggleable__control:checked~label.sk-toggleable__label {background-color: #d4ebff;}#sk-container-id-2 div.sk-label input.sk-toggleable__control:checked~label.sk-toggleable__label {background-color: #d4ebff;}#sk-container-id-2 input.sk-hidden--visually {border: 0;clip: rect(1px 1px 1px 1px);clip: rect(1px, 1px, 1px, 1px);height: 1px;margin: -1px;overflow: hidden;padding: 0;position: absolute;width: 1px;}#sk-container-id-2 div.sk-estimator {font-family: monospace;background-color: #f0f8ff;border: 1px dotted black;border-radius: 0.25em;box-sizing: border-box;margin-bottom: 0.5em;}#sk-container-id-2 div.sk-estimator:hover {background-color: #d4ebff;}#sk-container-id-2 div.sk-parallel-item::after {content: \"\";width: 100%;border-bottom: 1px solid gray;flex-grow: 1;}#sk-container-id-2 div.sk-label:hover label.sk-toggleable__label {background-color: #d4ebff;}#sk-container-id-2 div.sk-serial::before {content: \"\";position: absolute;border-left: 1px solid gray;box-sizing: border-box;top: 0;bottom: 0;left: 50%;z-index: 0;}#sk-container-id-2 div.sk-serial {display: flex;flex-direction: column;align-items: center;background-color: white;padding-right: 0.2em;padding-left: 0.2em;position: relative;}#sk-container-id-2 div.sk-item {position: relative;z-index: 1;}#sk-container-id-2 div.sk-parallel {display: flex;align-items: stretch;justify-content: center;background-color: white;position: relative;}#sk-container-id-2 div.sk-item::before, #sk-container-id-2 div.sk-parallel-item::before {content: \"\";position: absolute;border-left: 1px solid gray;box-sizing: border-box;top: 0;bottom: 0;left: 50%;z-index: -1;}#sk-container-id-2 div.sk-parallel-item {display: flex;flex-direction: column;z-index: 1;position: relative;background-color: white;}#sk-container-id-2 div.sk-parallel-item:first-child::after {align-self: flex-end;width: 50%;}#sk-container-id-2 div.sk-parallel-item:last-child::after {align-self: flex-start;width: 50%;}#sk-container-id-2 div.sk-parallel-item:only-child::after {width: 0;}#sk-container-id-2 div.sk-dashed-wrapped {border: 1px dashed gray;margin: 0 0.4em 0.5em 0.4em;box-sizing: border-box;padding-bottom: 0.4em;background-color: white;}#sk-container-id-2 div.sk-label label {font-family: monospace;font-weight: bold;display: inline-block;line-height: 1.2em;}#sk-container-id-2 div.sk-label-container {text-align: center;}#sk-container-id-2 div.sk-container {/* jupyter's `normalize.less` sets `[hidden] { display: none; }` but bootstrap.min.css set `[hidden] { display: none !important; }` so we also need the `!important` here to be able to override the default hidden behavior on the sphinx rendered scikit-learn.org. See: https://github.com/scikit-learn/scikit-learn/issues/21755 */display: inline-block !important;position: relative;}#sk-container-id-2 div.sk-text-repr-fallback {display: none;}</style><div id=\"sk-container-id-2\" class=\"sk-top-container\"><div class=\"sk-text-repr-fallback\"><pre>LinearRegression()</pre><b>In a Jupyter environment, please rerun this cell to show the HTML representation or trust the notebook. <br />On GitHub, the HTML representation is unable to render, please try loading this page with nbviewer.org.</b></div><div class=\"sk-container\" hidden><div class=\"sk-item\"><div class=\"sk-estimator sk-toggleable\"><input class=\"sk-toggleable__control sk-hidden--visually\" id=\"sk-estimator-id-2\" type=\"checkbox\" checked><label for=\"sk-estimator-id-2\" class=\"sk-toggleable__label sk-toggleable__label-arrow\">LinearRegression</label><div class=\"sk-toggleable__content\"><pre>LinearRegression()</pre></div></div></div></div></div>"
     },
     "execution_count": 26,
     "metadata": {},
     "output_type": "execute_result"
    }
   ],
   "source": [
    "#Fit the model on the training data\n",
    "model.fit(X_train, y_train)"
   ],
   "metadata": {
    "collapsed": false,
    "ExecuteTime": {
     "end_time": "2023-11-16T16:12:04.325570505Z",
     "start_time": "2023-11-16T16:12:04.099352504Z"
    }
   },
   "id": "737eb7641120486a"
  },
  {
   "cell_type": "code",
   "execution_count": 27,
   "outputs": [],
   "source": [
    "# Step 5: Make predictions on the test set\n",
    "y_pred = model.predict(X_eval)"
   ],
   "metadata": {
    "collapsed": false,
    "ExecuteTime": {
     "end_time": "2023-11-16T16:12:06.108294270Z",
     "start_time": "2023-11-16T16:12:05.974799917Z"
    }
   },
   "id": "1ed8c6f3857d7142"
  },
  {
   "cell_type": "code",
   "execution_count": 30,
   "outputs": [
    {
     "name": "stdout",
     "output_type": "stream",
     "text": [
      "Mean Squared Error (Before Hyperparameter Tuning): 0.14694812081318834\n",
      "Root Mean Squared Error (Before Hyperparameter Tuning): 0.3833381285669198\n",
      "R-squared (R2): 0.06807589660391788\n"
     ]
    }
   ],
   "source": [
    "from sklearn.metrics import r2_score\n",
    "from sklearn.metrics import mean_squared_error\n",
    "# Step 6: Evaluate the model before hyperparameter tuning\n",
    "mse = mean_squared_error(y_eval, y_pred)\n",
    "r2 = r2_score(y_eval, y_pred)\n",
    "rmse = mean_squared_error(y_eval, y_pred, squared=False)\n",
    "print(f'Mean Squared Error (Before Hyperparameter Tuning): {mse}')\n",
    "print(f'Root Mean Squared Error (Before Hyperparameter Tuning): {rmse}')\n",
    "print(f'R-squared (R2): {r2}')"
   ],
   "metadata": {
    "collapsed": false,
    "ExecuteTime": {
     "end_time": "2023-11-16T16:15:53.193274868Z",
     "start_time": "2023-11-16T16:15:52.624056667Z"
    }
   },
   "id": "33d2100bdde63e5c"
  },
  {
   "cell_type": "code",
   "execution_count": 38,
   "outputs": [],
   "source": [
    "# Define the parameter grid\n",
    "param_grid = {\n",
    "    'fit_intercept': [True, False],\n",
    "    'positive': [True, False]\n",
    "}"
   ],
   "metadata": {
    "collapsed": false,
    "ExecuteTime": {
     "end_time": "2023-11-16T13:00:11.032340933Z",
     "start_time": "2023-11-16T13:00:10.896615637Z"
    }
   },
   "id": "7a0cff7990a566b3"
  },
  {
   "cell_type": "code",
   "execution_count": 39,
   "outputs": [],
   "source": [
    "# Create the GridSearchCV object\n",
    "grid_search = GridSearchCV(model, param_grid, cv=5, scoring='neg_mean_squared_error', n_jobs=-1)\n"
   ],
   "metadata": {
    "collapsed": false,
    "ExecuteTime": {
     "end_time": "2023-11-16T13:00:11.911009017Z",
     "start_time": "2023-11-16T13:00:11.792442242Z"
    }
   },
   "id": "8eac097801e7ad3"
  },
  {
   "cell_type": "code",
   "execution_count": 40,
   "outputs": [
    {
     "data": {
      "text/plain": "GridSearchCV(cv=5, estimator=LinearRegression(), n_jobs=-1,\n             param_grid={'fit_intercept': [True, False],\n                         'positive': [True, False]},\n             scoring='neg_mean_squared_error')",
      "text/html": "<style>#sk-container-id-3 {color: black;}#sk-container-id-3 pre{padding: 0;}#sk-container-id-3 div.sk-toggleable {background-color: white;}#sk-container-id-3 label.sk-toggleable__label {cursor: pointer;display: block;width: 100%;margin-bottom: 0;padding: 0.3em;box-sizing: border-box;text-align: center;}#sk-container-id-3 label.sk-toggleable__label-arrow:before {content: \"▸\";float: left;margin-right: 0.25em;color: #696969;}#sk-container-id-3 label.sk-toggleable__label-arrow:hover:before {color: black;}#sk-container-id-3 div.sk-estimator:hover label.sk-toggleable__label-arrow:before {color: black;}#sk-container-id-3 div.sk-toggleable__content {max-height: 0;max-width: 0;overflow: hidden;text-align: left;background-color: #f0f8ff;}#sk-container-id-3 div.sk-toggleable__content pre {margin: 0.2em;color: black;border-radius: 0.25em;background-color: #f0f8ff;}#sk-container-id-3 input.sk-toggleable__control:checked~div.sk-toggleable__content {max-height: 200px;max-width: 100%;overflow: auto;}#sk-container-id-3 input.sk-toggleable__control:checked~label.sk-toggleable__label-arrow:before {content: \"▾\";}#sk-container-id-3 div.sk-estimator input.sk-toggleable__control:checked~label.sk-toggleable__label {background-color: #d4ebff;}#sk-container-id-3 div.sk-label input.sk-toggleable__control:checked~label.sk-toggleable__label {background-color: #d4ebff;}#sk-container-id-3 input.sk-hidden--visually {border: 0;clip: rect(1px 1px 1px 1px);clip: rect(1px, 1px, 1px, 1px);height: 1px;margin: -1px;overflow: hidden;padding: 0;position: absolute;width: 1px;}#sk-container-id-3 div.sk-estimator {font-family: monospace;background-color: #f0f8ff;border: 1px dotted black;border-radius: 0.25em;box-sizing: border-box;margin-bottom: 0.5em;}#sk-container-id-3 div.sk-estimator:hover {background-color: #d4ebff;}#sk-container-id-3 div.sk-parallel-item::after {content: \"\";width: 100%;border-bottom: 1px solid gray;flex-grow: 1;}#sk-container-id-3 div.sk-label:hover label.sk-toggleable__label {background-color: #d4ebff;}#sk-container-id-3 div.sk-serial::before {content: \"\";position: absolute;border-left: 1px solid gray;box-sizing: border-box;top: 0;bottom: 0;left: 50%;z-index: 0;}#sk-container-id-3 div.sk-serial {display: flex;flex-direction: column;align-items: center;background-color: white;padding-right: 0.2em;padding-left: 0.2em;position: relative;}#sk-container-id-3 div.sk-item {position: relative;z-index: 1;}#sk-container-id-3 div.sk-parallel {display: flex;align-items: stretch;justify-content: center;background-color: white;position: relative;}#sk-container-id-3 div.sk-item::before, #sk-container-id-3 div.sk-parallel-item::before {content: \"\";position: absolute;border-left: 1px solid gray;box-sizing: border-box;top: 0;bottom: 0;left: 50%;z-index: -1;}#sk-container-id-3 div.sk-parallel-item {display: flex;flex-direction: column;z-index: 1;position: relative;background-color: white;}#sk-container-id-3 div.sk-parallel-item:first-child::after {align-self: flex-end;width: 50%;}#sk-container-id-3 div.sk-parallel-item:last-child::after {align-self: flex-start;width: 50%;}#sk-container-id-3 div.sk-parallel-item:only-child::after {width: 0;}#sk-container-id-3 div.sk-dashed-wrapped {border: 1px dashed gray;margin: 0 0.4em 0.5em 0.4em;box-sizing: border-box;padding-bottom: 0.4em;background-color: white;}#sk-container-id-3 div.sk-label label {font-family: monospace;font-weight: bold;display: inline-block;line-height: 1.2em;}#sk-container-id-3 div.sk-label-container {text-align: center;}#sk-container-id-3 div.sk-container {/* jupyter's `normalize.less` sets `[hidden] { display: none; }` but bootstrap.min.css set `[hidden] { display: none !important; }` so we also need the `!important` here to be able to override the default hidden behavior on the sphinx rendered scikit-learn.org. See: https://github.com/scikit-learn/scikit-learn/issues/21755 */display: inline-block !important;position: relative;}#sk-container-id-3 div.sk-text-repr-fallback {display: none;}</style><div id=\"sk-container-id-3\" class=\"sk-top-container\"><div class=\"sk-text-repr-fallback\"><pre>GridSearchCV(cv=5, estimator=LinearRegression(), n_jobs=-1,\n             param_grid={&#x27;fit_intercept&#x27;: [True, False],\n                         &#x27;positive&#x27;: [True, False]},\n             scoring=&#x27;neg_mean_squared_error&#x27;)</pre><b>In a Jupyter environment, please rerun this cell to show the HTML representation or trust the notebook. <br />On GitHub, the HTML representation is unable to render, please try loading this page with nbviewer.org.</b></div><div class=\"sk-container\" hidden><div class=\"sk-item sk-dashed-wrapped\"><div class=\"sk-label-container\"><div class=\"sk-label sk-toggleable\"><input class=\"sk-toggleable__control sk-hidden--visually\" id=\"sk-estimator-id-3\" type=\"checkbox\" ><label for=\"sk-estimator-id-3\" class=\"sk-toggleable__label sk-toggleable__label-arrow\">GridSearchCV</label><div class=\"sk-toggleable__content\"><pre>GridSearchCV(cv=5, estimator=LinearRegression(), n_jobs=-1,\n             param_grid={&#x27;fit_intercept&#x27;: [True, False],\n                         &#x27;positive&#x27;: [True, False]},\n             scoring=&#x27;neg_mean_squared_error&#x27;)</pre></div></div></div><div class=\"sk-parallel\"><div class=\"sk-parallel-item\"><div class=\"sk-item\"><div class=\"sk-label-container\"><div class=\"sk-label sk-toggleable\"><input class=\"sk-toggleable__control sk-hidden--visually\" id=\"sk-estimator-id-4\" type=\"checkbox\" ><label for=\"sk-estimator-id-4\" class=\"sk-toggleable__label sk-toggleable__label-arrow\">estimator: LinearRegression</label><div class=\"sk-toggleable__content\"><pre>LinearRegression()</pre></div></div></div><div class=\"sk-serial\"><div class=\"sk-item\"><div class=\"sk-estimator sk-toggleable\"><input class=\"sk-toggleable__control sk-hidden--visually\" id=\"sk-estimator-id-5\" type=\"checkbox\" ><label for=\"sk-estimator-id-5\" class=\"sk-toggleable__label sk-toggleable__label-arrow\">LinearRegression</label><div class=\"sk-toggleable__content\"><pre>LinearRegression()</pre></div></div></div></div></div></div></div></div></div></div>"
     },
     "execution_count": 40,
     "metadata": {},
     "output_type": "execute_result"
    }
   ],
   "source": [
    "# Fit the grid search to the data\n",
    "grid_search.fit(X_train, y_train)\n"
   ],
   "metadata": {
    "collapsed": false,
    "ExecuteTime": {
     "end_time": "2023-11-16T13:00:16.550250267Z",
     "start_time": "2023-11-16T13:00:12.687855580Z"
    }
   },
   "id": "39d4e9bcdcffa720"
  },
  {
   "cell_type": "code",
   "execution_count": 41,
   "outputs": [],
   "source": [
    "# Get the best parameters and best model\n",
    "best_params = grid_search.best_params_\n",
    "best_model = grid_search.best_estimator_"
   ],
   "metadata": {
    "collapsed": false,
    "ExecuteTime": {
     "end_time": "2023-11-16T13:00:18.774627878Z",
     "start_time": "2023-11-16T13:00:18.316262628Z"
    }
   },
   "id": "bdcf85b874d7a094"
  },
  {
   "cell_type": "code",
   "execution_count": 42,
   "outputs": [],
   "source": [
    "# Make predictions on the test set\n",
    "y_pred = best_model.predict(X_eval)\n",
    "\n"
   ],
   "metadata": {
    "collapsed": false,
    "ExecuteTime": {
     "end_time": "2023-11-16T13:00:19.574501473Z",
     "start_time": "2023-11-16T13:00:19.461282418Z"
    }
   },
   "id": "62a6c97ce0fc3323"
  },
  {
   "cell_type": "code",
   "execution_count": 43,
   "outputs": [
    {
     "name": "stdout",
     "output_type": "stream",
     "text": [
      "Mean Squared Error (MSE): 0.1469504780865254\n",
      "Root Mean Squared Error (RMSE): 0.38334120322048004\n",
      "R-squared (R2): 0.06806094711134214\n"
     ]
    }
   ],
   "source": [
    "# Evaluate the model\n",
    "import numpy as np\n",
    "from sklearn.metrics import mean_squared_error, r2_score\n",
    "\n",
    "\n",
    "mse = mean_squared_error(y_eval, y_pred)\n",
    "rmse = np.sqrt(mse)\n",
    "r2 = r2_score(y_eval, y_pred)\n",
    "\n",
    "print(f'Mean Squared Error (MSE): {mse}')\n",
    "print(f'Root Mean Squared Error (RMSE): {rmse}')\n",
    "print(f'R-squared (R2): {r2}')"
   ],
   "metadata": {
    "collapsed": false,
    "ExecuteTime": {
     "end_time": "2023-11-16T13:00:20.384301739Z",
     "start_time": "2023-11-16T13:00:20.272037875Z"
    }
   },
   "id": "7d0418debe1a6dde"
  },
  {
   "cell_type": "code",
   "execution_count": 44,
   "outputs": [
    {
     "name": "stdout",
     "output_type": "stream",
     "text": [
      "ROC AUC : 0.6789\n"
     ]
    }
   ],
   "source": [
    "# compute ROC AUC\n",
    "\n",
    "from sklearn.metrics import roc_auc_score\n",
    "\n",
    "ROC_AUC = roc_auc_score(y_eval,y_pred )\n",
    "\n",
    "print('ROC AUC : {:.4f}'.format(ROC_AUC))"
   ],
   "metadata": {
    "collapsed": false,
    "ExecuteTime": {
     "end_time": "2023-11-16T13:00:22.180540124Z",
     "start_time": "2023-11-16T13:00:22.078570442Z"
    }
   },
   "id": "fabaf491e0d56b4b"
  },
  {
   "cell_type": "code",
   "execution_count": 46,
   "outputs": [
    {
     "data": {
      "text/plain": "<Figure size 600x400 with 1 Axes>",
      "image/png": "[encoded data removed]"
     },
     "metadata": {},
     "output_type": "display_data"
    }
   ],
   "source": [
    "# plot ROC Curve\n",
    "\n",
    "from sklearn.metrics import roc_curve\n",
    "\n",
    "fpr, tpr, thresholds = roc_curve(y_eval, y_pred)\n",
    "\n",
    "plt.figure(figsize=(6,4))\n",
    "\n",
    "plt.plot(fpr, tpr, linewidth=2)\n",
    "\n",
    "plt.plot([0,1], [0,1], 'k--' )\n",
    "\n",
    "plt.rcParams['font.size'] = 12\n",
    "\n",
    "plt.title('ROC curve' )\n",
    "\n",
    "plt.xlabel('False Positive Rate (1 - Specificity)')\n",
    "\n",
    "plt.ylabel('True Positive Rate (Sensitivity)')\n",
    "\n",
    "plt.show()"
   ],
   "metadata": {
    "collapsed": false,
    "ExecuteTime": {
     "end_time": "2023-11-16T13:00:53.594568183Z",
     "start_time": "2023-11-16T13:00:53.287592834Z"
    }
   },
   "id": "fa16e50ad34c7085"
  },
  {
   "cell_type": "code",
   "execution_count": 73,
   "outputs": [],
   "source": [],
   "metadata": {
    "collapsed": false,
    "ExecuteTime": {
     "end_time": "2023-11-15T16:22:43.284561992Z",
     "start_time": "2023-11-15T16:22:43.079009155Z"
    }
   },
   "id": "ed37666d553c95a5"
  },
  {
   "cell_type": "markdown",
   "source": [
    "### KNN"
   ],
   "metadata": {
    "collapsed": false
   },
   "id": "f9bab1c9aa4d5651"
  },
  {
   "cell_type": "code",
   "execution_count": 47,
   "outputs": [
    {
     "data": {
      "text/plain": "KNeighborsClassifier()",
      "text/html": "<style>#sk-container-id-4 {color: black;}#sk-container-id-4 pre{padding: 0;}#sk-container-id-4 div.sk-toggleable {background-color: white;}#sk-container-id-4 label.sk-toggleable__label {cursor: pointer;display: block;width: 100%;margin-bottom: 0;padding: 0.3em;box-sizing: border-box;text-align: center;}#sk-container-id-4 label.sk-toggleable__label-arrow:before {content: \"▸\";float: left;margin-right: 0.25em;color: #696969;}#sk-container-id-4 label.sk-toggleable__label-arrow:hover:before {color: black;}#sk-container-id-4 div.sk-estimator:hover label.sk-toggleable__label-arrow:before {color: black;}#sk-container-id-4 div.sk-toggleable__content {max-height: 0;max-width: 0;overflow: hidden;text-align: left;background-color: #f0f8ff;}#sk-container-id-4 div.sk-toggleable__content pre {margin: 0.2em;color: black;border-radius: 0.25em;background-color: #f0f8ff;}#sk-container-id-4 input.sk-toggleable__control:checked~div.sk-toggleable__content {max-height: 200px;max-width: 100%;overflow: auto;}#sk-container-id-4 input.sk-toggleable__control:checked~label.sk-toggleable__label-arrow:before {content: \"▾\";}#sk-container-id-4 div.sk-estimator input.sk-toggleable__control:checked~label.sk-toggleable__label {background-color: #d4ebff;}#sk-container-id-4 div.sk-label input.sk-toggleable__control:checked~label.sk-toggleable__label {background-color: #d4ebff;}#sk-container-id-4 input.sk-hidden--visually {border: 0;clip: rect(1px 1px 1px 1px);clip: rect(1px, 1px, 1px, 1px);height: 1px;margin: -1px;overflow: hidden;padding: 0;position: absolute;width: 1px;}#sk-container-id-4 div.sk-estimator {font-family: monospace;background-color: #f0f8ff;border: 1px dotted black;border-radius: 0.25em;box-sizing: border-box;margin-bottom: 0.5em;}#sk-container-id-4 div.sk-estimator:hover {background-color: #d4ebff;}#sk-container-id-4 div.sk-parallel-item::after {content: \"\";width: 100%;border-bottom: 1px solid gray;flex-grow: 1;}#sk-container-id-4 div.sk-label:hover label.sk-toggleable__label {background-color: #d4ebff;}#sk-container-id-4 div.sk-serial::before {content: \"\";position: absolute;border-left: 1px solid gray;box-sizing: border-box;top: 0;bottom: 0;left: 50%;z-index: 0;}#sk-container-id-4 div.sk-serial {display: flex;flex-direction: column;align-items: center;background-color: white;padding-right: 0.2em;padding-left: 0.2em;position: relative;}#sk-container-id-4 div.sk-item {position: relative;z-index: 1;}#sk-container-id-4 div.sk-parallel {display: flex;align-items: stretch;justify-content: center;background-color: white;position: relative;}#sk-container-id-4 div.sk-item::before, #sk-container-id-4 div.sk-parallel-item::before {content: \"\";position: absolute;border-left: 1px solid gray;box-sizing: border-box;top: 0;bottom: 0;left: 50%;z-index: -1;}#sk-container-id-4 div.sk-parallel-item {display: flex;flex-direction: column;z-index: 1;position: relative;background-color: white;}#sk-container-id-4 div.sk-parallel-item:first-child::after {align-self: flex-end;width: 50%;}#sk-container-id-4 div.sk-parallel-item:last-child::after {align-self: flex-start;width: 50%;}#sk-container-id-4 div.sk-parallel-item:only-child::after {width: 0;}#sk-container-id-4 div.sk-dashed-wrapped {border: 1px dashed gray;margin: 0 0.4em 0.5em 0.4em;box-sizing: border-box;padding-bottom: 0.4em;background-color: white;}#sk-container-id-4 div.sk-label label {font-family: monospace;font-weight: bold;display: inline-block;line-height: 1.2em;}#sk-container-id-4 div.sk-label-container {text-align: center;}#sk-container-id-4 div.sk-container {/* jupyter's `normalize.less` sets `[hidden] { display: none; }` but bootstrap.min.css set `[hidden] { display: none !important; }` so we also need the `!important` here to be able to override the default hidden behavior on the sphinx rendered scikit-learn.org. See: https://github.com/scikit-learn/scikit-learn/issues/21755 */display: inline-block !important;position: relative;}#sk-container-id-4 div.sk-text-repr-fallback {display: none;}</style><div id=\"sk-container-id-4\" class=\"sk-top-container\"><div class=\"sk-text-repr-fallback\"><pre>KNeighborsClassifier()</pre><b>In a Jupyter environment, please rerun this cell to show the HTML representation or trust the notebook. <br />On GitHub, the HTML representation is unable to render, please try loading this page with nbviewer.org.</b></div><div class=\"sk-container\" hidden><div class=\"sk-item\"><div class=\"sk-estimator sk-toggleable\"><input class=\"sk-toggleable__control sk-hidden--visually\" id=\"sk-estimator-id-6\" type=\"checkbox\" checked><label for=\"sk-estimator-id-6\" class=\"sk-toggleable__label sk-toggleable__label-arrow\">KNeighborsClassifier</label><div class=\"sk-toggleable__content\"><pre>KNeighborsClassifier()</pre></div></div></div></div></div>"
     },
     "execution_count": 47,
     "metadata": {},
     "output_type": "execute_result"
    }
   ],
   "source": [
    "from sklearn.neighbors import KNeighborsClassifier\n",
    "knn = KNeighborsClassifier()\n",
    "knn"
   ],
   "metadata": {
    "collapsed": false,
    "ExecuteTime": {
     "end_time": "2023-11-16T13:01:01.689371930Z",
     "start_time": "2023-11-16T13:01:01.622909534Z"
    }
   },
   "id": "30d9257f87998afa"
  },
  {
   "cell_type": "code",
   "execution_count": 48,
   "outputs": [
    {
     "data": {
      "text/plain": "array([0.70255864, 0.79104478, 0.75586354, 0.78891258, 0.7803838 ,\n       0.79637527, 0.78571429, 0.78997868, 0.79530917, 0.80063966,\n       0.79317697, 0.79957356, 0.79850746, 0.79744136, 0.79744136,\n       0.79317697, 0.79424307, 0.79424307, 0.79530917, 0.79424307])"
     },
     "execution_count": 48,
     "metadata": {},
     "output_type": "execute_result"
    }
   ],
   "source": [
    "from sklearn import metrics\n",
    "mean_acc = np.zeros(20)\n",
    "for i in range(1,21):\n",
    "    #Train Model and Predict  \n",
    "    knn = KNeighborsClassifier(n_neighbors = i).fit(X_train, y_train)\n",
    "    yhat= knn.predict(X_eval)\n",
    "    mean_acc[i-1] = metrics.accuracy_score(y_eval, yhat)\n",
    "\n",
    "mean_acc"
   ],
   "metadata": {
    "collapsed": false,
    "ExecuteTime": {
     "end_time": "2023-11-16T13:01:04.418399877Z",
     "start_time": "2023-11-16T13:01:02.306206144Z"
    }
   },
   "id": "f07c6761e1d9fe91"
  },
  {
   "cell_type": "markdown",
   "source": [
    "#### Hyperparameter Tuning for KNN\n",
    "\n",
    "We will use the Exhaustive Grid Search technique for hyperparameter optimization. An exhaustive grid search takes in as many hyperparameters as you would like, and tries every single possible combination of the hyperparameters as well as as many cross-validations as you would like it to perform. An exhaustive grid search is a good way to determine the best hyperparameter values to use, but it can quickly become time consuming with every additional parameter value and cross-validation that you add."
   ],
   "metadata": {
    "collapsed": false
   },
   "id": "aa325bec2aba02a2"
  },
  {
   "cell_type": "code",
   "execution_count": 49,
   "outputs": [],
   "source": [
    "grid_params = { 'n_neighbors' : [2,6,10,12,20],\n",
    "               'weights' : ['uniform','distance'],\n",
    "               'metric' : ['minkowski','euclidean','manhattan']}"
   ],
   "metadata": {
    "collapsed": false,
    "ExecuteTime": {
     "end_time": "2023-11-16T13:01:07.155751575Z",
     "start_time": "2023-11-16T13:01:06.961344196Z"
    }
   },
   "id": "2d1ea113b8c5b092"
  },
  {
   "cell_type": "code",
   "execution_count": 50,
   "outputs": [],
   "source": [
    "gs = GridSearchCV(KNeighborsClassifier(), grid_params, verbose = 1, cv=3, n_jobs = -1)\n"
   ],
   "metadata": {
    "collapsed": false,
    "ExecuteTime": {
     "end_time": "2023-11-16T13:01:08.313631730Z",
     "start_time": "2023-11-16T13:01:08.173765907Z"
    }
   },
   "id": "68d59de65281b8ab"
  },
  {
   "cell_type": "code",
   "execution_count": 51,
   "outputs": [
    {
     "name": "stdout",
     "output_type": "stream",
     "text": [
      "Fitting 3 folds for each of 30 candidates, totalling 90 fits\n"
     ]
    }
   ],
   "source": [
    "# fit the model on our train set\n",
    "g_res = gs.fit(X_train, y_train)"
   ],
   "metadata": {
    "collapsed": false,
    "ExecuteTime": {
     "end_time": "2023-11-16T13:01:11.480821454Z",
     "start_time": "2023-11-16T13:01:09.179162830Z"
    }
   },
   "id": "d69670bf0f88a89c"
  },
  {
   "cell_type": "code",
   "execution_count": 52,
   "outputs": [
    {
     "data": {
      "text/plain": "0.7822827862289832"
     },
     "execution_count": 52,
     "metadata": {},
     "output_type": "execute_result"
    }
   ],
   "source": [
    "# find the best score\n",
    "g_res.best_score_"
   ],
   "metadata": {
    "collapsed": false,
    "ExecuteTime": {
     "end_time": "2023-11-16T13:01:12.688937868Z",
     "start_time": "2023-11-16T13:01:12.558840192Z"
    }
   },
   "id": "69321efd6cdeec7b"
  },
  {
   "cell_type": "code",
   "execution_count": 53,
   "outputs": [
    {
     "data": {
      "text/plain": "{'metric': 'manhattan', 'n_neighbors': 12, 'weights': 'uniform'}"
     },
     "execution_count": 53,
     "metadata": {},
     "output_type": "execute_result"
    }
   ],
   "source": [
    "# get the hyperparameters with the best score\n",
    "g_res.best_params_"
   ],
   "metadata": {
    "collapsed": false,
    "ExecuteTime": {
     "end_time": "2023-11-16T13:01:14.204496437Z",
     "start_time": "2023-11-16T13:01:14.022414885Z"
    }
   },
   "id": "c8e6161501ecc8b0"
  },
  {
   "cell_type": "code",
   "execution_count": 54,
   "outputs": [
    {
     "data": {
      "text/plain": "KNeighborsClassifier(algorithm='brute', n_neighbors=20)",
      "text/html": "<style>#sk-container-id-5 {color: black;}#sk-container-id-5 pre{padding: 0;}#sk-container-id-5 div.sk-toggleable {background-color: white;}#sk-container-id-5 label.sk-toggleable__label {cursor: pointer;display: block;width: 100%;margin-bottom: 0;padding: 0.3em;box-sizing: border-box;text-align: center;}#sk-container-id-5 label.sk-toggleable__label-arrow:before {content: \"▸\";float: left;margin-right: 0.25em;color: #696969;}#sk-container-id-5 label.sk-toggleable__label-arrow:hover:before {color: black;}#sk-container-id-5 div.sk-estimator:hover label.sk-toggleable__label-arrow:before {color: black;}#sk-container-id-5 div.sk-toggleable__content {max-height: 0;max-width: 0;overflow: hidden;text-align: left;background-color: #f0f8ff;}#sk-container-id-5 div.sk-toggleable__content pre {margin: 0.2em;color: black;border-radius: 0.25em;background-color: #f0f8ff;}#sk-container-id-5 input.sk-toggleable__control:checked~div.sk-toggleable__content {max-height: 200px;max-width: 100%;overflow: auto;}#sk-container-id-5 input.sk-toggleable__control:checked~label.sk-toggleable__label-arrow:before {content: \"▾\";}#sk-container-id-5 div.sk-estimator input.sk-toggleable__control:checked~label.sk-toggleable__label {background-color: #d4ebff;}#sk-container-id-5 div.sk-label input.sk-toggleable__control:checked~label.sk-toggleable__label {background-color: #d4ebff;}#sk-container-id-5 input.sk-hidden--visually {border: 0;clip: rect(1px 1px 1px 1px);clip: rect(1px, 1px, 1px, 1px);height: 1px;margin: -1px;overflow: hidden;padding: 0;position: absolute;width: 1px;}#sk-container-id-5 div.sk-estimator {font-family: monospace;background-color: #f0f8ff;border: 1px dotted black;border-radius: 0.25em;box-sizing: border-box;margin-bottom: 0.5em;}#sk-container-id-5 div.sk-estimator:hover {background-color: #d4ebff;}#sk-container-id-5 div.sk-parallel-item::after {content: \"\";width: 100%;border-bottom: 1px solid gray;flex-grow: 1;}#sk-container-id-5 div.sk-label:hover label.sk-toggleable__label {background-color: #d4ebff;}#sk-container-id-5 div.sk-serial::before {content: \"\";position: absolute;border-left: 1px solid gray;box-sizing: border-box;top: 0;bottom: 0;left: 50%;z-index: 0;}#sk-container-id-5 div.sk-serial {display: flex;flex-direction: column;align-items: center;background-color: white;padding-right: 0.2em;padding-left: 0.2em;position: relative;}#sk-container-id-5 div.sk-item {position: relative;z-index: 1;}#sk-container-id-5 div.sk-parallel {display: flex;align-items: stretch;justify-content: center;background-color: white;position: relative;}#sk-container-id-5 div.sk-item::before, #sk-container-id-5 div.sk-parallel-item::before {content: \"\";position: absolute;border-left: 1px solid gray;box-sizing: border-box;top: 0;bottom: 0;left: 50%;z-index: -1;}#sk-container-id-5 div.sk-parallel-item {display: flex;flex-direction: column;z-index: 1;position: relative;background-color: white;}#sk-container-id-5 div.sk-parallel-item:first-child::after {align-self: flex-end;width: 50%;}#sk-container-id-5 div.sk-parallel-item:last-child::after {align-self: flex-start;width: 50%;}#sk-container-id-5 div.sk-parallel-item:only-child::after {width: 0;}#sk-container-id-5 div.sk-dashed-wrapped {border: 1px dashed gray;margin: 0 0.4em 0.5em 0.4em;box-sizing: border-box;padding-bottom: 0.4em;background-color: white;}#sk-container-id-5 div.sk-label label {font-family: monospace;font-weight: bold;display: inline-block;line-height: 1.2em;}#sk-container-id-5 div.sk-label-container {text-align: center;}#sk-container-id-5 div.sk-container {/* jupyter's `normalize.less` sets `[hidden] { display: none; }` but bootstrap.min.css set `[hidden] { display: none !important; }` so we also need the `!important` here to be able to override the default hidden behavior on the sphinx rendered scikit-learn.org. See: https://github.com/scikit-learn/scikit-learn/issues/21755 */display: inline-block !important;position: relative;}#sk-container-id-5 div.sk-text-repr-fallback {display: none;}</style><div id=\"sk-container-id-5\" class=\"sk-top-container\"><div class=\"sk-text-repr-fallback\"><pre>KNeighborsClassifier(algorithm=&#x27;brute&#x27;, n_neighbors=20)</pre><b>In a Jupyter environment, please rerun this cell to show the HTML representation or trust the notebook. <br />On GitHub, the HTML representation is unable to render, please try loading this page with nbviewer.org.</b></div><div class=\"sk-container\" hidden><div class=\"sk-item\"><div class=\"sk-estimator sk-toggleable\"><input class=\"sk-toggleable__control sk-hidden--visually\" id=\"sk-estimator-id-7\" type=\"checkbox\" checked><label for=\"sk-estimator-id-7\" class=\"sk-toggleable__label sk-toggleable__label-arrow\">KNeighborsClassifier</label><div class=\"sk-toggleable__content\"><pre>KNeighborsClassifier(algorithm=&#x27;brute&#x27;, n_neighbors=20)</pre></div></div></div></div></div>"
     },
     "execution_count": 54,
     "metadata": {},
     "output_type": "execute_result"
    }
   ],
   "source": [
    "# use the best hyperparameters\n",
    "g_res.best_params_\n",
    "knn = KNeighborsClassifier(n_neighbors = 20, weights = 'uniform',algorithm = 'brute',metric = 'minkowski')\n",
    "knn.fit(X_train, y_train)"
   ],
   "metadata": {
    "collapsed": false,
    "ExecuteTime": {
     "end_time": "2023-11-16T13:01:15.247944803Z",
     "start_time": "2023-11-16T13:01:15.127755431Z"
    }
   },
   "id": "6b5cf4cb4784d208"
  },
  {
   "cell_type": "code",
   "execution_count": 55,
   "outputs": [],
   "source": [
    "# get a prediction\n",
    "y_hat = knn.predict(X_train)\n",
    "y_knn = knn.predict(X_eval)"
   ],
   "metadata": {
    "collapsed": false,
    "ExecuteTime": {
     "end_time": "2023-11-16T13:01:17.450432928Z",
     "start_time": "2023-11-16T13:01:16.693467584Z"
    }
   },
   "id": "a6bc80c9347dd513"
  },
  {
   "cell_type": "code",
   "execution_count": 56,
   "outputs": [
    {
     "name": "stdout",
     "output_type": "stream",
     "text": [
      "Training set accuracy:  0.7897545357524013\n",
      "Test set accuracy:  0.7942430703624733\n"
     ]
    }
   ],
   "source": [
    "# Model Evaluation\n",
    "print('Training set accuracy: ', metrics.accuracy_score(y_train, y_hat))\n",
    "print('Test set accuracy: ',metrics.accuracy_score(y_eval, y_knn))\n",
    "sc = metrics.accuracy_score(y_eval, y_knn)"
   ],
   "metadata": {
    "collapsed": false,
    "ExecuteTime": {
     "end_time": "2023-11-16T13:01:18.598669935Z",
     "start_time": "2023-11-16T13:01:18.468735421Z"
    }
   },
   "id": "ab071ceb8a333942"
  },
  {
   "cell_type": "code",
   "execution_count": 57,
   "outputs": [
    {
     "name": "stdout",
     "output_type": "stream",
     "text": [
      "[[739  15]\n",
      " [178   6]]\n"
     ]
    }
   ],
   "source": [
    "from sklearn.metrics import confusion_matrix\n",
    "print(confusion_matrix(y_eval, y_knn))"
   ],
   "metadata": {
    "collapsed": false,
    "ExecuteTime": {
     "end_time": "2023-11-16T13:01:19.700464354Z",
     "start_time": "2023-11-16T13:01:19.607784315Z"
    }
   },
   "id": "95040e018072f0a9"
  },
  {
   "cell_type": "code",
   "execution_count": 58,
   "outputs": [
    {
     "name": "stdout",
     "output_type": "stream",
     "text": [
      "              precision    recall  f1-score   support\n",
      "\n",
      "           0       0.81      0.98      0.88       754\n",
      "           1       0.29      0.03      0.06       184\n",
      "\n",
      "    accuracy                           0.79       938\n",
      "   macro avg       0.55      0.51      0.47       938\n",
      "weighted avg       0.70      0.79      0.72       938\n"
     ]
    }
   ],
   "source": [
    "print(classification_report(y_eval, y_knn))"
   ],
   "metadata": {
    "collapsed": false,
    "ExecuteTime": {
     "end_time": "2023-11-16T13:01:21.439103316Z",
     "start_time": "2023-11-16T13:01:21.271154600Z"
    }
   },
   "id": "3227fe11f23d7ef6"
  },
  {
   "cell_type": "code",
   "execution_count": 58,
   "outputs": [],
   "source": [],
   "metadata": {
    "collapsed": false,
    "ExecuteTime": {
     "end_time": "2023-11-16T13:01:23.136551994Z",
     "start_time": "2023-11-16T13:01:23.007883234Z"
    }
   },
   "id": "2464d739c87e8fdb"
  },
  {
   "cell_type": "code",
   "execution_count": 61,
   "outputs": [
    {
     "name": "stdout",
     "output_type": "stream",
     "text": [
      "ROC AUC : 0.5064\n"
     ]
    }
   ],
   "source": [
    "# compute ROC AUC\n",
    "\n",
    "from sklearn.metrics import roc_auc_score\n",
    "\n",
    "ROC_AUC = roc_auc_score(y_eval,y_knn )\n",
    "\n",
    "print('ROC AUC : {:.4f}'.format(ROC_AUC))"
   ],
   "metadata": {
    "collapsed": false,
    "ExecuteTime": {
     "end_time": "2023-11-16T13:01:42.910843894Z",
     "start_time": "2023-11-16T13:01:42.844458660Z"
    }
   },
   "id": "27ef60df91cdf1a8"
  },
  {
   "cell_type": "markdown",
   "source": [
    "### Naive Bayes"
   ],
   "metadata": {
    "collapsed": false
   },
   "id": "e6cfe018a81fc7a3"
  },
  {
   "cell_type": "code",
   "execution_count": 37,
   "outputs": [
    {
     "name": "stdout",
     "output_type": "stream",
     "text": [
      "GaussianNB()  mean accuracy:  77.641 % std:  0.006 %\n"
     ]
    }
   ],
   "source": [
    "from sklearn.model_selection import cross_val_score\n",
    "model = GaussianNB()\n",
    "cv_scores = cross_val_score(model,X_train, y_train, cv=5)\n",
    "    \n",
    "print(model, ' mean accuracy: ', round(cv_scores.mean()*100, 3), '% std: ', round(cv_scores.var()*100, 3),'%')"
   ],
   "metadata": {
    "collapsed": false,
    "ExecuteTime": {
     "end_time": "2023-11-16T16:51:22.630511551Z",
     "start_time": "2023-11-16T16:51:22.420349316Z"
    }
   },
   "id": "522e974150329410"
  },
  {
   "cell_type": "code",
   "execution_count": 38,
   "outputs": [
    {
     "name": "stdout",
     "output_type": "stream",
     "text": [
      "accuracy_score on train dataset :  0.7772145144076841\n",
      "accuracy_score on test dataset :  0.7867803837953091\n"
     ]
    }
   ],
   "source": [
    "predict_train = model.fit(X_train, y_train).predict(X_train)\n",
    "\n",
    "# Accuray Score on train dataset\n",
    "accuracy_train = accuracy_score(y_train,predict_train)\n",
    "print('accuracy_score on train dataset : ', accuracy_train)\n",
    "\n",
    "\n",
    "# predict the target on the test dataset\n",
    "predict_test = model.predict(X_eval)\n",
    "\n",
    "# Accuracy Score on test dataset\n",
    "accuracy_test = accuracy_score(y_eval,predict_test)\n",
    "print('accuracy_score on test dataset : ', accuracy_test)"
   ],
   "metadata": {
    "collapsed": false,
    "ExecuteTime": {
     "end_time": "2023-11-16T16:51:24.267272255Z",
     "start_time": "2023-11-16T16:51:24.061146647Z"
    }
   },
   "id": "bbf19f4cd2bf1040"
  },
  {
   "cell_type": "code",
   "execution_count": 39,
   "outputs": [
    {
     "data": {
      "text/plain": "<Figure size 640x480 with 4 Axes>",
      "image/png": "[encoded data removed]"
     },
     "metadata": {},
     "output_type": "display_data"
    }
   ],
   "source": [
    "# Cnfusion matrix\n",
    "from sklearn import metrics\n",
    "f,a =  plt.subplots(1,2,sharex=True,sharey=True,squeeze=False)\n",
    "\n",
    "#Plotting confusion matrix for the different models for the Training Data\n",
    "\n",
    "plot_0 = sns.heatmap((metrics.confusion_matrix(y_train,predict_train)),annot=True,fmt='.5g',cmap=\"YlGn\",ax=a[0][0]);\n",
    "a[0][0].set_title('Training Data')\n",
    "\n",
    "plot_1 = sns.heatmap((metrics.confusion_matrix(y_eval,predict_test)),annot=True,fmt='.5g',cmap=\"YlGn\",ax=a[0][1]);\n",
    "a[0][1].set_title('Test Data');"
   ],
   "metadata": {
    "collapsed": false,
    "ExecuteTime": {
     "end_time": "2023-11-16T16:51:26.599163979Z",
     "start_time": "2023-11-16T16:51:25.645543778Z"
    }
   },
   "id": "5dd76d0338c43d9d"
  },
  {
   "cell_type": "code",
   "execution_count": 40,
   "outputs": [
    {
     "name": "stdout",
     "output_type": "stream",
     "text": [
      "              precision    recall  f1-score   support\n",
      "\n",
      "           0       0.81      0.93      0.87      2951\n",
      "           1       0.45      0.22      0.29       797\n",
      "\n",
      "    accuracy                           0.78      3748\n",
      "   macro avg       0.63      0.57      0.58      3748\n",
      "weighted avg       0.74      0.78      0.75      3748\n",
      "\n",
      "              precision    recall  f1-score   support\n",
      "\n",
      "           0       0.83      0.93      0.88       754\n",
      "           1       0.41      0.21      0.28       184\n",
      "\n",
      "    accuracy                           0.79       938\n",
      "   macro avg       0.62      0.57      0.58       938\n",
      "weighted avg       0.75      0.79      0.76       938\n"
     ]
    }
   ],
   "source": [
    "# Classification report\n",
    "from sklearn.metrics import roc_auc_score,roc_curve,classification_report,confusion_matrix,ConfusionMatrixDisplay\n",
    "print(classification_report(y_train,predict_train))\n",
    "print(classification_report(y_eval,predict_test))"
   ],
   "metadata": {
    "collapsed": false,
    "ExecuteTime": {
     "end_time": "2023-11-16T16:51:27.768765135Z",
     "start_time": "2023-11-16T16:51:27.566971615Z"
    }
   },
   "id": "e947566c45ee5680"
  },
  {
   "cell_type": "markdown",
   "source": [
    "##### Hyperparameter Tuning to improve Accuracy\n",
    "\n",
    "Var_smoothing (Variance smoothing) parameter specifies the portion of the largest variance of all features to be added to variances for stability of calculation.\n",
    "\n",
    "Gaussian Naive Bayes assumes that features follows normal distribution which is most unlikely in real world.So solve this problem we can perform \"power transformation\" on each feature to make it more or less normally distributed. By default, PowerTransformer results in features that have a 0 mean and 1 standard deviation.\n"
   ],
   "metadata": {
    "collapsed": false
   },
   "id": "893ec43b37e1e0ff"
  },
  {
   "cell_type": "code",
   "execution_count": 67,
   "outputs": [],
   "source": [
    "from sklearn.model_selection import RepeatedStratifiedKFold\n",
    "\n",
    "cv_method = RepeatedStratifiedKFold(n_splits=5, \n",
    "                                    n_repeats=3, \n",
    "                                    random_state=999)"
   ],
   "metadata": {
    "collapsed": false,
    "ExecuteTime": {
     "end_time": "2023-11-16T13:02:05.459963045Z",
     "start_time": "2023-11-16T13:02:05.252037290Z"
    }
   },
   "id": "caaf817b79affc20"
  },
  {
   "cell_type": "code",
   "execution_count": 98,
   "outputs": [
    {
     "name": "stdout",
     "output_type": "stream",
     "text": [
      "Fitting 15 folds for each of 100 candidates, totalling 1500 fits\n"
     ]
    }
   ],
   "source": [
    "from sklearn.preprocessing import PowerTransformer\n",
    "params_NB = {'var_smoothing': np.logspace(0,-9, num=100)}\n",
    "\n",
    "gs_NB = GridSearchCV(estimator=model, \n",
    "                     param_grid=params_NB, \n",
    "                     cv=cv_method,\n",
    "                     verbose=1, \n",
    "                     scoring='accuracy')\n",
    "\n",
    "Data_transformed = PowerTransformer().fit_transform(X_train)\n",
    "\n",
    "gs_NB.fit(Data_transformed, y_train);"
   ],
   "metadata": {
    "collapsed": false,
    "ExecuteTime": {
     "end_time": "2023-11-15T16:26:26.660237213Z",
     "start_time": "2023-11-15T16:26:17.467106437Z"
    }
   },
   "id": "37689ac2c8d1da6d"
  },
  {
   "cell_type": "code",
   "execution_count": 99,
   "outputs": [
    {
     "data": {
      "text/plain": "{'var_smoothing': 0.15199110829529336}"
     },
     "execution_count": 99,
     "metadata": {},
     "output_type": "execute_result"
    }
   ],
   "source": [
    "gs_NB.best_params_\n"
   ],
   "metadata": {
    "collapsed": false,
    "ExecuteTime": {
     "end_time": "2023-11-15T16:26:28.362574263Z",
     "start_time": "2023-11-15T16:26:28.119019661Z"
    }
   },
   "id": "dfda7eeb9f149b6e"
  },
  {
   "cell_type": "code",
   "execution_count": 100,
   "outputs": [
    {
     "data": {
      "text/plain": "0.7883321762349799"
     },
     "execution_count": 100,
     "metadata": {},
     "output_type": "execute_result"
    }
   ],
   "source": [
    "gs_NB.best_score_"
   ],
   "metadata": {
    "collapsed": false,
    "ExecuteTime": {
     "end_time": "2023-11-15T16:26:30.340063762Z",
     "start_time": "2023-11-15T16:26:30.067218373Z"
    }
   },
   "id": "59227227228948fb"
  },
  {
   "cell_type": "code",
   "execution_count": 101,
   "outputs": [],
   "source": [
    "results_NB = pd.DataFrame(gs_NB.cv_results_['params'])\n",
    "results_NB['test_score'] = gs_NB.cv_results_['mean_test_score']"
   ],
   "metadata": {
    "collapsed": false,
    "ExecuteTime": {
     "end_time": "2023-11-15T16:26:31.799243831Z",
     "start_time": "2023-11-15T16:26:31.622122822Z"
    }
   },
   "id": "f8d775cffc5ae686"
  },
  {
   "cell_type": "code",
   "execution_count": 102,
   "outputs": [
    {
     "data": {
      "text/plain": "<Figure size 640x480 with 1 Axes>",
      "image/png": "[encoded data removed]"
     },
     "metadata": {},
     "output_type": "display_data"
    }
   ],
   "source": [
    "plt.plot(results_NB['var_smoothing'], results_NB['test_score'], marker = '.')    \n",
    "plt.xlabel('Var. Smoothing')\n",
    "plt.ylabel(\"Mean CV Score\")\n",
    "plt.title(\"NB Performance Comparison\")\n",
    "plt.show()\n"
   ],
   "metadata": {
    "collapsed": false,
    "ExecuteTime": {
     "end_time": "2023-11-15T16:26:33.567101781Z",
     "start_time": "2023-11-15T16:26:33.128282550Z"
    }
   },
   "id": "6e2035ee35a81ced"
  },
  {
   "cell_type": "code",
   "execution_count": 103,
   "outputs": [
    {
     "name": "stdout",
     "output_type": "stream",
     "text": [
      "accuracy_score on test dataset :  0.7878868729989328\n"
     ]
    }
   ],
   "source": [
    "# predict the target on the test dataset\n",
    "predict_test = gs_NB.predict(Data_transformed)\n",
    "\n",
    "# Accuracy Score on test dataset\n",
    "accuracy_test = accuracy_score(y_train,predict_test)\n",
    "print('accuracy_score on test dataset : ', accuracy_test)"
   ],
   "metadata": {
    "collapsed": false,
    "ExecuteTime": {
     "end_time": "2023-11-15T16:26:34.887350939Z",
     "start_time": "2023-11-15T16:26:34.733283375Z"
    }
   },
   "id": "b9562fc9f5f1900d"
  },
  {
   "cell_type": "code",
   "execution_count": 104,
   "outputs": [
    {
     "data": {
      "text/plain": "<Figure size 640x480 with 2 Axes>",
      "image/png": "[encoded data removed]"
     },
     "metadata": {},
     "output_type": "display_data"
    }
   ],
   "source": [
    "sns.heatmap((metrics.confusion_matrix(y_train,predict_test)),annot=True,fmt='.5g',cmap=\"YlGn\").set_title('Test Data');"
   ],
   "metadata": {
    "collapsed": false,
    "ExecuteTime": {
     "end_time": "2023-11-15T16:26:37.075751632Z",
     "start_time": "2023-11-15T16:26:36.533171046Z"
    }
   },
   "id": "e33ba25a70e9c7b0"
  },
  {
   "cell_type": "code",
   "execution_count": 105,
   "outputs": [
    {
     "name": "stdout",
     "output_type": "stream",
     "text": [
      "ROC AUC : 0.5242\n"
     ]
    }
   ],
   "source": [
    "# compute ROC AUC\n",
    "\n",
    "from sklearn.metrics import roc_auc_score\n",
    "\n",
    "ROC_AUC = roc_auc_score(y_train,predict_test)\n",
    "\n",
    "print('ROC AUC : {:.4f}'.format(ROC_AUC))"
   ],
   "metadata": {
    "collapsed": false,
    "ExecuteTime": {
     "end_time": "2023-11-15T16:26:38.388774475Z",
     "start_time": "2023-11-15T16:26:38.234223345Z"
    }
   },
   "id": "d681cff991a82b18"
  },
  {
   "cell_type": "code",
   "execution_count": 31,
   "outputs": [
    {
     "ename": "NameError",
     "evalue": "name 'predict_test' is not defined",
     "output_type": "error",
     "traceback": [
      "\u001B[0;31m---------------------------------------------------------------------------\u001B[0m",
      "\u001B[0;31mNameError\u001B[0m                                 Traceback (most recent call last)",
      "Cell \u001B[0;32mIn[31], line 5\u001B[0m\n\u001B[1;32m      1\u001B[0m \u001B[38;5;66;03m# plot ROC Curve\u001B[39;00m\n\u001B[1;32m      3\u001B[0m \u001B[38;5;28;01mfrom\u001B[39;00m \u001B[38;5;21;01msklearn\u001B[39;00m\u001B[38;5;21;01m.\u001B[39;00m\u001B[38;5;21;01mmetrics\u001B[39;00m \u001B[38;5;28;01mimport\u001B[39;00m roc_curve\n\u001B[0;32m----> 5\u001B[0m fpr, tpr, thresholds \u001B[38;5;241m=\u001B[39m roc_curve(y_train, \u001B[43mpredict_test\u001B[49m)\n\u001B[1;32m      7\u001B[0m plt\u001B[38;5;241m.\u001B[39mfigure(figsize\u001B[38;5;241m=\u001B[39m(\u001B[38;5;241m6\u001B[39m,\u001B[38;5;241m4\u001B[39m))\n\u001B[1;32m      9\u001B[0m plt\u001B[38;5;241m.\u001B[39mplot(fpr, tpr, linewidth\u001B[38;5;241m=\u001B[39m\u001B[38;5;241m2\u001B[39m)\n",
      "\u001B[0;31mNameError\u001B[0m: name 'predict_test' is not defined"
     ]
    }
   ],
   "source": [
    "# plot ROC Curve\n",
    "\n",
    "from sklearn.metrics import roc_curve\n",
    "\n",
    "fpr, tpr, thresholds = roc_curve(y_train, predict_test)\n",
    "\n",
    "plt.figure(figsize=(6,4))\n",
    "\n",
    "plt.plot(fpr, tpr, linewidth=2)\n",
    "\n",
    "plt.plot([0,1], [0,1], 'k--' )\n",
    "\n",
    "plt.rcParams['font.size'] = 12\n",
    "\n",
    "plt.title('ROC curve for Predicting NB')\n",
    "\n",
    "plt.xlabel('False Positive Rate (1 - Specificity)')\n",
    "\n",
    "plt.ylabel('True Positive Rate (Sensitivity)')\n",
    "\n",
    "plt.show()"
   ],
   "metadata": {
    "collapsed": false,
    "ExecuteTime": {
     "end_time": "2023-11-16T16:37:31.362694273Z",
     "start_time": "2023-11-16T16:37:31.126602288Z"
    }
   },
   "id": "2a66f5e6dfa96da9"
  },
  {
   "cell_type": "code",
   "execution_count": 106,
   "outputs": [],
   "source": [],
   "metadata": {
    "collapsed": false,
    "ExecuteTime": {
     "end_time": "2023-11-15T16:26:41.384047787Z",
     "start_time": "2023-11-15T16:26:41.205522653Z"
    }
   },
   "id": "4676bca031d5fc52"
  },
  {
   "cell_type": "code",
   "execution_count": null,
   "outputs": [],
   "source": [],
   "metadata": {
    "collapsed": false
   },
   "id": "6465692a2562fc6e"
  },
  {
   "cell_type": "code",
   "execution_count": null,
   "outputs": [],
   "source": [],
   "metadata": {
    "collapsed": false
   },
   "id": "77032061925c5271"
  },
  {
   "cell_type": "markdown",
   "source": [
    "### Making predictions "
   ],
   "metadata": {
    "collapsed": false
   },
   "id": "489f4bb82dbefeb2"
  },
  {
   "cell_type": "code",
   "execution_count": 115,
   "outputs": [
    {
     "name": "stdout",
     "output_type": "stream",
     "text": [
      "df shape (4686, 12)\n",
      "<class 'pandas.core.frame.DataFrame'>\n",
      "RangeIndex: 3069 entries, 0 to 3068\n",
      "Data columns (total 11 columns):\n",
      " #   Column              Non-Null Count  Dtype  \n",
      "---  ------              --------------  -----  \n",
      " 0   Customer Id         3069 non-null   object \n",
      " 1   YearOfObservation   3069 non-null   int64  \n",
      " 2   Insured_Period      3069 non-null   float64\n",
      " 3   Residential         3069 non-null   int64  \n",
      " 4   Building_Painted    3069 non-null   object \n",
      " 5   Building_Fenced     3069 non-null   object \n",
      " 6   Garden              3069 non-null   object \n",
      " 7   Settlement          3069 non-null   object \n",
      " 8   Building Dimension  3069 non-null   float64\n",
      " 9   Building_Type       3069 non-null   int64  \n",
      " 10  Date_of_Occupancy   3069 non-null   float64\n",
      "dtypes: float64(3), int64(3), object(5)\n",
      "memory usage: 263.9+ KB\n"
     ]
    }
   ],
   "source": [
    "df2 = wrangle(\"test_data.csv\")\n",
    "print(\"df shape\", df.shape)\n",
    "df2.info()"
   ],
   "metadata": {
    "collapsed": false,
    "ExecuteTime": {
     "end_time": "2023-11-15T16:39:30.144483621Z",
     "start_time": "2023-11-15T16:39:29.961793670Z"
    }
   },
   "id": "4ce25caef4d82c2e"
  },
  {
   "cell_type": "code",
   "execution_count": 115,
   "outputs": [],
   "source": [],
   "metadata": {
    "collapsed": false,
    "ExecuteTime": {
     "end_time": "2023-11-15T16:39:39.194422435Z",
     "start_time": "2023-11-15T16:39:39.057770795Z"
    }
   },
   "id": "37dc1200983ae9f8"
  },
  {
   "cell_type": "code",
   "execution_count": 116,
   "outputs": [
    {
     "name": "stdout",
     "output_type": "stream",
     "text": [
      "     Customer Id  YearOfObservation  Insured_Period  Residential  \\\n",
      "0         H11920               2013        1.000000            0   \n",
      "1         H11921               2016        0.997268            0   \n",
      "2          H9805               2013        0.369863            0   \n",
      "3          H7493               2014        1.000000            0   \n",
      "4          H7494               2016        1.000000            0   \n",
      "...          ...                ...             ...          ...   \n",
      "3064      H11583               2015        1.000000            0   \n",
      "3065      H11720               2012        1.000000            0   \n",
      "3066      H11721               2012        1.000000            0   \n",
      "3067      H12408               2013        1.000000            0   \n",
      "3068       H9021               2012        1.000000            0   \n",
      "\n",
      "      Building_Painted  Building_Fenced  Garden  Settlement  \\\n",
      "0                    1                0       0           0   \n",
      "1                    1                0       0           0   \n",
      "2                    1                1       1           1   \n",
      "3                    1                0       0           0   \n",
      "4                    1                0       0           0   \n",
      "...                ...              ...     ...         ...   \n",
      "3064                 1                1       1           1   \n",
      "3065                 1                1       1           1   \n",
      "3066                 1                1       1           1   \n",
      "3067                 1                1       1           1   \n",
      "3068                 1                1       1           1   \n",
      "\n",
      "      Building Dimension  Building_Type  Date_of_Occupancy  \n",
      "0                  300.0              1             1960.0  \n",
      "1                  300.0              1             1960.0  \n",
      "2                  790.0              1             1960.0  \n",
      "3                 1405.0              1             2004.0  \n",
      "4                 1405.0              1             2004.0  \n",
      "...                  ...            ...                ...  \n",
      "3064               900.0              4             1900.0  \n",
      "3065               900.0              2             1948.0  \n",
      "3066               900.0              2             1993.0  \n",
      "3067               900.0              1             1800.0  \n",
      "3068               900.0              2             1950.0  \n",
      "\n",
      "[3069 rows x 11 columns]\n"
     ]
    }
   ],
   "source": [
    "# Create a LabelEncoder\n",
    "label_encoder = LabelEncoder()\n",
    "\n",
    "# Encode categorical columns\n",
    "categorical_columns = [\"Building_Painted\", \"Building_Fenced\", \"Garden\", \"Settlement\"]\n",
    "for column in categorical_columns:\n",
    "    df2[column] = label_encoder.fit_transform(df2[column])\n",
    "print(df2)"
   ],
   "metadata": {
    "collapsed": false,
    "ExecuteTime": {
     "end_time": "2023-11-15T16:39:40.505980936Z",
     "start_time": "2023-11-15T16:39:40.326730197Z"
    }
   },
   "id": "944702241d909d21"
  },
  {
   "cell_type": "code",
   "execution_count": 117,
   "outputs": [],
   "source": [
    "features1 = [\"Building Dimension\",\"Insured_Period\",\"Residential\",\"Building_Fenced\",\"Garden\",\"Settlement\",\"Building_Type\"]\n",
    "X_pred1 =df2[features1]"
   ],
   "metadata": {
    "collapsed": false,
    "ExecuteTime": {
     "end_time": "2023-11-15T16:39:42.597444506Z",
     "start_time": "2023-11-15T16:39:42.351194463Z"
    }
   },
   "id": "b679927d60d2034e"
  },
  {
   "cell_type": "code",
   "execution_count": 118,
   "outputs": [
    {
     "data": {
      "text/plain": "   Building Dimension  Insured_Period  Residential  Building_Fenced  Garden  \\\n0               300.0        1.000000            0                0       0   \n1               300.0        0.997268            0                0       0   \n2               790.0        0.369863            0                1       1   \n3              1405.0        1.000000            0                0       0   \n4              1405.0        1.000000            0                0       0   \n\n   Settlement  Building_Type  \n0           0              1  \n1           0              1  \n2           1              1  \n3           0              1  \n4           0              1  ",
      "text/html": "<div>\n<style scoped>\n    .dataframe tbody tr th:only-of-type {\n        vertical-align: middle;\n    }\n\n    .dataframe tbody tr th {\n        vertical-align: top;\n    }\n\n    .dataframe thead th {\n        text-align: right;\n    }\n</style>\n<table border=\"1\" class=\"dataframe\">\n  <thead>\n    <tr style=\"text-align: right;\">\n      <th></th>\n      <th>Building Dimension</th>\n      <th>Insured_Period</th>\n      <th>Residential</th>\n      <th>Building_Fenced</th>\n      <th>Garden</th>\n      <th>Settlement</th>\n      <th>Building_Type</th>\n    </tr>\n  </thead>\n  <tbody>\n    <tr>\n      <th>0</th>\n      <td>300.0</td>\n      <td>1.000000</td>\n      <td>0</td>\n      <td>0</td>\n      <td>0</td>\n      <td>0</td>\n      <td>1</td>\n    </tr>\n    <tr>\n      <th>1</th>\n      <td>300.0</td>\n      <td>0.997268</td>\n      <td>0</td>\n      <td>0</td>\n      <td>0</td>\n      <td>0</td>\n      <td>1</td>\n    </tr>\n    <tr>\n      <th>2</th>\n      <td>790.0</td>\n      <td>0.369863</td>\n      <td>0</td>\n      <td>1</td>\n      <td>1</td>\n      <td>1</td>\n      <td>1</td>\n    </tr>\n    <tr>\n      <th>3</th>\n      <td>1405.0</td>\n      <td>1.000000</td>\n      <td>0</td>\n      <td>0</td>\n      <td>0</td>\n      <td>0</td>\n      <td>1</td>\n    </tr>\n    <tr>\n      <th>4</th>\n      <td>1405.0</td>\n      <td>1.000000</td>\n      <td>0</td>\n      <td>0</td>\n      <td>0</td>\n      <td>0</td>\n      <td>1</td>\n    </tr>\n  </tbody>\n</table>\n</div>"
     },
     "execution_count": 118,
     "metadata": {},
     "output_type": "execute_result"
    }
   ],
   "source": [
    "X_pred1.head()"
   ],
   "metadata": {
    "collapsed": false,
    "ExecuteTime": {
     "end_time": "2023-11-15T16:39:45.581765038Z",
     "start_time": "2023-11-15T16:39:45.431036086Z"
    }
   },
   "id": "ab4dc6129fb2ab92"
  },
  {
   "cell_type": "code",
   "execution_count": 119,
   "outputs": [],
   "source": [
    "# Assuming you have a pipeline with a StandardScaler\n",
    "scaled_X_pred1 = pipeline.transform(X_pred1)"
   ],
   "metadata": {
    "collapsed": false,
    "ExecuteTime": {
     "end_time": "2023-11-15T16:39:54.182555012Z",
     "start_time": "2023-11-15T16:39:53.921423264Z"
    }
   },
   "id": "b9bccfff4fdae537"
  },
  {
   "cell_type": "markdown",
   "source": [
    "### SVM preictions"
   ],
   "metadata": {
    "collapsed": false
   },
   "id": "58446001a01cbb1a"
  },
  {
   "cell_type": "code",
   "execution_count": 120,
   "outputs": [],
   "source": [
    "# Make predictions using the trained SVM model\n",
    "predictions = model_svc.predict(scaled_X_pred1)"
   ],
   "metadata": {
    "collapsed": false,
    "ExecuteTime": {
     "end_time": "2023-11-15T16:39:56.268052672Z",
     "start_time": "2023-11-15T16:39:55.701721940Z"
    }
   },
   "id": "e2c899c8e3ef97e"
  },
  {
   "cell_type": "code",
   "execution_count": 121,
   "outputs": [],
   "source": [
    "# Create a new DataFrame with the predictions\n",
    "output_df = pd.DataFrame({'Predictions': predictions})"
   ],
   "metadata": {
    "collapsed": false,
    "ExecuteTime": {
     "end_time": "2023-11-15T16:39:57.396979335Z",
     "start_time": "2023-11-15T16:39:57.264586179Z"
    }
   },
   "id": "c6b746195e8f464e"
  },
  {
   "cell_type": "code",
   "execution_count": 122,
   "outputs": [],
   "source": [
    "# Assuming df2 has a column named 'Customer ID'\n",
    "customer_ids = df2[\"Customer Id\"]"
   ],
   "metadata": {
    "collapsed": false,
    "ExecuteTime": {
     "end_time": "2023-11-15T16:39:58.989925674Z",
     "start_time": "2023-11-15T16:39:58.857191076Z"
    }
   },
   "id": "5c05f0575124bc93"
  },
  {
   "cell_type": "code",
   "execution_count": 123,
   "outputs": [],
   "source": [
    "# Create a DataFrame with Customer ID and Predictions\n",
    "output_df = pd.DataFrame({'Customer ID': customer_ids, 'Predictions': predictions})"
   ],
   "metadata": {
    "collapsed": false,
    "ExecuteTime": {
     "end_time": "2023-11-15T16:40:03.768697320Z",
     "start_time": "2023-11-15T16:40:03.340574065Z"
    }
   },
   "id": "62109a241567083d"
  },
  {
   "cell_type": "code",
   "execution_count": 124,
   "outputs": [
    {
     "name": "stdout",
     "output_type": "stream",
     "text": [
      "     Customer ID  Predictions\n",
      "0         H11920            0\n",
      "1         H11921            0\n",
      "2          H9805            0\n",
      "3          H7493            0\n",
      "4          H7494            0\n",
      "...          ...          ...\n",
      "3064      H11583            0\n",
      "3065      H11720            0\n",
      "3066      H11721            0\n",
      "3067      H12408            0\n",
      "3068       H9021            0\n",
      "\n",
      "[3069 rows x 2 columns]\n"
     ]
    }
   ],
   "source": [
    "# Print the predictions\n",
    "print(output_df)"
   ],
   "metadata": {
    "collapsed": false,
    "ExecuteTime": {
     "end_time": "2023-11-15T16:40:08.609278023Z",
     "start_time": "2023-11-15T16:40:08.461552818Z"
    }
   },
   "id": "9f6aed4c3655b5c9"
  },
  {
   "cell_type": "code",
   "execution_count": 126,
   "outputs": [],
   "source": [
    "# Save the predictions to a CSV file\n",
    "output_df.to_csv('SVM_output.csv', index=False)"
   ],
   "metadata": {
    "collapsed": false,
    "ExecuteTime": {
     "end_time": "2023-11-15T16:41:05.039545138Z",
     "start_time": "2023-11-15T16:41:04.840858106Z"
    }
   },
   "id": "a6118e5df8e0dad3"
  },
  {
   "cell_type": "code",
   "execution_count": null,
   "outputs": [],
   "source": [],
   "metadata": {
    "collapsed": false
   },
   "id": "e68d28eeb194dcbe"
  },
  {
   "cell_type": "markdown",
   "source": [
    "### Prediction for linear Regression"
   ],
   "metadata": {
    "collapsed": false
   },
   "id": "e1ef6e37df82c0d2"
  },
  {
   "cell_type": "code",
   "execution_count": 138,
   "outputs": [
    {
     "name": "stdout",
     "output_type": "stream",
     "text": [
      "     Customer ID  Predictions\n",
      "0         H11920     0.057437\n",
      "1         H11921     0.057089\n",
      "2          H9805     0.028375\n",
      "3          H7493     0.158109\n",
      "4          H7494     0.158109\n",
      "...          ...          ...\n",
      "3064      H11583     0.265057\n",
      "3065      H11720     0.167324\n",
      "3066      H11721     0.167324\n",
      "3067      H12408     0.118458\n",
      "3068       H9021     0.167324\n",
      "\n",
      "[3069 rows x 2 columns]\n"
     ]
    }
   ],
   "source": [
    "# Make predictions using the trained Linear Regression Model model\n",
    "predictionsL = best_model.predict(X_pred1)\n",
    "# Create a new DataFrame with the predictions\n",
    "output_dfL = pd.DataFrame({'Predictions': predictionsL})\n",
    "# Assuming df2 has a column named 'Customer ID'\n",
    "customer_idsL = df2[\"Customer Id\"]\n",
    "# Create a DataFrame with Customer ID and Predictions\n",
    "output_dfL = pd.DataFrame({'Customer ID': customer_idsL, 'Predictions': predictionsL})\n",
    "# Print the predictions\n",
    "print(output_dfL)\n",
    "# Save the predictions to a CSV file\n",
    "output_dfL.to_csv('Linear_Regression_output.csv', index=False)"
   ],
   "metadata": {
    "collapsed": false,
    "ExecuteTime": {
     "end_time": "2023-11-15T17:06:23.747511902Z",
     "start_time": "2023-11-15T17:06:23.366518148Z"
    }
   },
   "id": "112c2afe4326db49"
  },
  {
   "cell_type": "code",
   "execution_count": null,
   "outputs": [],
   "source": [],
   "metadata": {
    "collapsed": false
   },
   "id": "73ffa27d5d54f400"
  },
  {
   "cell_type": "markdown",
   "source": [
    "### Prediction for KNN"
   ],
   "metadata": {
    "collapsed": false
   },
   "id": "ccc41b221061ff12"
  },
  {
   "cell_type": "code",
   "execution_count": 137,
   "outputs": [
    {
     "name": "stdout",
     "output_type": "stream",
     "text": [
      "     Customer ID  Predictions\n",
      "0         H11920            0\n",
      "1         H11921            0\n",
      "2          H9805            0\n",
      "3          H7493            0\n",
      "4          H7494            0\n",
      "...          ...          ...\n",
      "3064      H11583            0\n",
      "3065      H11720            0\n",
      "3066      H11721            0\n",
      "3067      H12408            0\n",
      "3068       H9021            0\n",
      "\n",
      "[3069 rows x 2 columns]\n"
     ]
    }
   ],
   "source": [
    "# Make predictions using the trained SVM model\n",
    "predictionsK = knn.predict(X_pred1)\n",
    "# Create a new DataFrame with the predictions\n",
    "output_dfK = pd.DataFrame({'Predictions': predictionsK})\n",
    "# Assuming df2 has a column named 'Customer ID'\n",
    "customer_idsK = df2[\"Customer Id\"]\n",
    "# Create a DataFrame with Customer ID and Predictions\n",
    "output_dfK = pd.DataFrame({'Customer ID': customer_idsK, 'Predictions': predictionsK})\n",
    "# Print the predictions\n",
    "print(output_dfK)\n",
    "# Save the predictions to a CSV file\n",
    "output_dfK.to_csv('KNN_output.csv', index=False)"
   ],
   "metadata": {
    "collapsed": false,
    "ExecuteTime": {
     "end_time": "2023-11-15T17:06:16.087072997Z",
     "start_time": "2023-11-15T17:06:15.313454885Z"
    }
   },
   "id": "ddbc5bd725cd029c"
  },
  {
   "cell_type": "code",
   "execution_count": null,
   "outputs": [],
   "source": [],
   "metadata": {
    "collapsed": false
   },
   "id": "6da0d743f2ba9b6c"
  },
  {
   "cell_type": "code",
   "execution_count": null,
   "outputs": [],
   "source": [
    "### Prediction for Naive Bayes "
   ],
   "metadata": {
    "collapsed": false
   },
   "id": "360f737fc57f60e0"
  },
  {
   "cell_type": "code",
   "execution_count": 139,
   "outputs": [
    {
     "name": "stdout",
     "output_type": "stream",
     "text": [
      "     Customer ID  Predictions\n",
      "0         H11920            1\n",
      "1         H11921            1\n",
      "2          H9805            1\n",
      "3          H7493            1\n",
      "4          H7494            1\n",
      "...          ...          ...\n",
      "3064      H11583            1\n",
      "3065      H11720            1\n",
      "3066      H11721            1\n",
      "3067      H12408            1\n",
      "3068       H9021            1\n",
      "\n",
      "[3069 rows x 2 columns]\n"
     ]
    }
   ],
   "source": [
    "# Make predictions using the trained SVM model\n",
    "predictionsB = gs_NB.predict(X_pred1)\n",
    "# Create a new DataFrame with the predictions\n",
    "output_dfB = pd.DataFrame({'Predictions': predictionsB})\n",
    "# Assuming df2 has a column named 'Customer ID'\n",
    "customer_idsB = df2[\"Customer Id\"]\n",
    "# Create a DataFrame with Customer ID and Predictions\n",
    "output_dfB = pd.DataFrame({'Customer ID': customer_idsB, 'Predictions': predictionsB})\n",
    "# Print the predictions\n",
    "print(output_dfB)\n",
    "# Save the predictions to a CSV file\n",
    "output_dfB.to_csv('Naive_Bayes_output.csv', index=False)"
   ],
   "metadata": {
    "collapsed": false,
    "ExecuteTime": {
     "end_time": "2023-11-15T17:10:06.161202592Z",
     "start_time": "2023-11-15T17:10:05.790233718Z"
    }
   },
   "id": "bcfa34144d7b4440"
  },
  {
   "cell_type": "code",
   "execution_count": null,
   "outputs": [],
   "source": [],
   "metadata": {
    "collapsed": false
   },
   "id": "57425667289616ba"
  },
  {
   "cell_type": "code",
   "execution_count": null,
   "outputs": [],
   "source": [],
   "metadata": {
    "collapsed": false
   },
   "id": "bdfeadb60362007f"
  },
  {
   "cell_type": "code",
   "execution_count": null,
   "outputs": [],
   "source": [],
   "metadata": {
    "collapsed": false
   },
   "id": "94818fb69a2ae174"
  },
  {
   "cell_type": "code",
   "execution_count": 453,
   "outputs": [
    {
     "data": {
      "text/plain": "                     Model     Score\n0  Support Vector Machines  0.805970\n2                      KNN  0.794243\n3              Naive Bayes  0.787887\n1        Linear Regression  0.068061",
      "text/html": "<div>\n<style scoped>\n    .dataframe tbody tr th:only-of-type {\n        vertical-align: middle;\n    }\n\n    .dataframe tbody tr th {\n        vertical-align: top;\n    }\n\n    .dataframe thead th {\n        text-align: right;\n    }\n</style>\n<table border=\"1\" class=\"dataframe\">\n  <thead>\n    <tr style=\"text-align: right;\">\n      <th></th>\n      <th>Model</th>\n      <th>Score</th>\n    </tr>\n  </thead>\n  <tbody>\n    <tr>\n      <th>0</th>\n      <td>Support Vector Machines</td>\n      <td>0.805970</td>\n    </tr>\n    <tr>\n      <th>2</th>\n      <td>KNN</td>\n      <td>0.794243</td>\n    </tr>\n    <tr>\n      <th>3</th>\n      <td>Naive Bayes</td>\n      <td>0.787887</td>\n    </tr>\n    <tr>\n      <th>1</th>\n      <td>Linear Regression</td>\n      <td>0.068061</td>\n    </tr>\n  </tbody>\n</table>\n</div>"
     },
     "execution_count": 453,
     "metadata": {},
     "output_type": "execute_result"
    }
   ],
   "source": [
    "models = pd.DataFrame({\n",
    "    'Model': ['Support Vector Machines','Linear Regression', 'KNN','Naive Bayes'],\n",
    "   'Score': [svm, r2 , sc ,accuracy_test]})\n",
    "models.sort_values(by='Score', ascending=False)"
   ],
   "metadata": {
    "collapsed": false,
    "ExecuteTime": {
     "end_time": "2023-11-14T20:30:37.657272740Z",
     "start_time": "2023-11-14T20:30:37.322492188Z"
    }
   },
   "id": "9f055f08b8c3e455"
  },
  {
   "cell_type": "code",
   "execution_count": null,
   "outputs": [],
   "source": [],
   "metadata": {
    "collapsed": false
   },
   "id": "591416a3b102bc3b"
  },
  {
   "cell_type": "code",
   "execution_count": null,
   "outputs": [],
   "source": [],
   "metadata": {
    "collapsed": false
   },
   "id": "1f7aa4eb1ebeb239"
  }
 ],
 "metadata": {
  "kernelspec": {
   "display_name": "Python 3",
   "language": "python",
   "name": "python3"
  },
  "language_info": {
   "codemirror_mode": {
    "name": "ipython",
    "version": 2
   },
   "file_extension": ".py",
   "mimetype": "text/x-python",
   "name": "python",
   "nbconvert_exporter": "python",
   "pygments_lexer": "ipython2",
   "version": "2.7.6"
  }
 },
 "nbformat": 4,
 "nbformat_minor": 5
}
